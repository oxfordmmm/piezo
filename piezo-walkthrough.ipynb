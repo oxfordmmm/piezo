{
 "cells": [
  {
   "cell_type": "markdown",
   "metadata": {},
   "source": [
    "# piezo\n",
    "\n",
    "This jupyter notebook walks you through the basic functionality of the Classes provided using the resistance catalogue `config/LID2015-RSU-catalogue-v1.0-H37rV_v2.csv`. This is almost exactly what is contained in the Supplement of this paper\n",
    "\n",
    "Walker TM, Kohl TA, Omar S V, Hedge J, Del Ojo Elias C, et al. Whole-genome sequencing for prediction of Mycobacterium tuberculosis drug susceptibility and resistance: a retrospective cohort study. Lancet Infec Dis 2015;15:1193–202. doi:10.1016/S1473-3099(15)00062-6\n",
    "\n",
    "It is important to note that this catalogue is relative to version 2 of the H37rV GenBank reference (the current version is 3).\n",
    "\n",
    "The differences are\n",
    "* some of the rows have not been included, in particular some very detailed indels, as I don't know what they mean..\n",
    "* some default rows have been added which describe the underlying assumptions such as any synoymous mutation is susceptible (in other words, all the logic is now contained in the catalogue, not in the code)\n",
    "* the mutations are formatted according to the General Ontology for Antimicrobial Resistance Catalogues (GOARC) which is described in the NOMENCLATURE.md file in the repo and also [here](http://fowlerlab.org/2018/11/25/goarc-a-general-ontology-for-antimicrobial-resistance-catalogues/)\n",
    "\n",
    "Philip W Fowler\n",
    "\n",
    "24 Jan 2019"
   ]
  },
  {
   "cell_type": "code",
   "execution_count": 2,
   "metadata": {},
   "outputs": [],
   "source": [
    "# we will need pandas so we can have a look at the Resistance Catalogue which is stored as a CSV\n",
    "import pandas\n",
    "\n",
    "import piezo"
   ]
  },
  {
   "cell_type": "code",
   "execution_count": 3,
   "metadata": {},
   "outputs": [],
   "source": [
    "lid_catalogue=pandas.read_csv(\"config/LID2015-RSU-catalogue-v1.0-H37rV_v2.csv\")"
   ]
  },
  {
   "cell_type": "code",
   "execution_count": 4,
   "metadata": {},
   "outputs": [
    {
     "data": {
      "text/html": [
       "<div>\n",
       "<style scoped>\n",
       "    .dataframe tbody tr th:only-of-type {\n",
       "        vertical-align: middle;\n",
       "    }\n",
       "\n",
       "    .dataframe tbody tr th {\n",
       "        vertical-align: top;\n",
       "    }\n",
       "\n",
       "    .dataframe thead th {\n",
       "        text-align: right;\n",
       "    }\n",
       "</style>\n",
       "<table border=\"1\" class=\"dataframe\">\n",
       "  <thead>\n",
       "    <tr style=\"text-align: right;\">\n",
       "      <th></th>\n",
       "      <th>DRUG</th>\n",
       "      <th>GENE</th>\n",
       "      <th>MUTATION</th>\n",
       "      <th>POSITION</th>\n",
       "      <th>GENE_MUTATION</th>\n",
       "      <th>GENE_TYPE</th>\n",
       "      <th>VARIANT_AFFECTS</th>\n",
       "      <th>VARIANT_TYPE</th>\n",
       "      <th>INDEL_1</th>\n",
       "      <th>INDEL_2</th>\n",
       "      <th>INDEL_3</th>\n",
       "      <th>GENBANK_REFERENCE</th>\n",
       "      <th>LID2015A_PREDICTION</th>\n",
       "      <th>LID2015B_PREDICTION</th>\n",
       "    </tr>\n",
       "  </thead>\n",
       "  <tbody>\n",
       "    <tr>\n",
       "      <th>0</th>\n",
       "      <td>AMI</td>\n",
       "      <td>gidB</td>\n",
       "      <td>202_indel</td>\n",
       "      <td>202</td>\n",
       "      <td>gidB_202_indel</td>\n",
       "      <td>GENE</td>\n",
       "      <td>CDS</td>\n",
       "      <td>INDEL</td>\n",
       "      <td>202_del</td>\n",
       "      <td>202_del_1</td>\n",
       "      <td>NaN</td>\n",
       "      <td>NC_000962.2</td>\n",
       "      <td>U</td>\n",
       "      <td>U</td>\n",
       "    </tr>\n",
       "    <tr>\n",
       "      <th>1</th>\n",
       "      <td>AMI</td>\n",
       "      <td>gidB</td>\n",
       "      <td>215_indel</td>\n",
       "      <td>215</td>\n",
       "      <td>gidB_215_indel</td>\n",
       "      <td>GENE</td>\n",
       "      <td>CDS</td>\n",
       "      <td>INDEL</td>\n",
       "      <td>215_del</td>\n",
       "      <td>215_del_1</td>\n",
       "      <td>NaN</td>\n",
       "      <td>NC_000962.2</td>\n",
       "      <td>S</td>\n",
       "      <td>S</td>\n",
       "    </tr>\n",
       "    <tr>\n",
       "      <th>2</th>\n",
       "      <td>AMI</td>\n",
       "      <td>gidB</td>\n",
       "      <td>293_indel</td>\n",
       "      <td>293</td>\n",
       "      <td>gidB_293_indel</td>\n",
       "      <td>GENE</td>\n",
       "      <td>CDS</td>\n",
       "      <td>INDEL</td>\n",
       "      <td>293_ins</td>\n",
       "      <td>293_ins_2</td>\n",
       "      <td>293_ins_ac</td>\n",
       "      <td>NC_000962.2</td>\n",
       "      <td>NaN</td>\n",
       "      <td>U</td>\n",
       "    </tr>\n",
       "    <tr>\n",
       "      <th>3</th>\n",
       "      <td>AMI</td>\n",
       "      <td>gidB</td>\n",
       "      <td>399_indel</td>\n",
       "      <td>399</td>\n",
       "      <td>gidB_399_indel</td>\n",
       "      <td>GENE</td>\n",
       "      <td>CDS</td>\n",
       "      <td>INDEL</td>\n",
       "      <td>399_del</td>\n",
       "      <td>399_del_10</td>\n",
       "      <td>NaN</td>\n",
       "      <td>NC_000962.2</td>\n",
       "      <td>NaN</td>\n",
       "      <td>S</td>\n",
       "    </tr>\n",
       "    <tr>\n",
       "      <th>4</th>\n",
       "      <td>AMI</td>\n",
       "      <td>gidB</td>\n",
       "      <td>451_indel</td>\n",
       "      <td>451</td>\n",
       "      <td>gidB_451_indel</td>\n",
       "      <td>GENE</td>\n",
       "      <td>CDS</td>\n",
       "      <td>INDEL</td>\n",
       "      <td>451_del</td>\n",
       "      <td>451_del_1</td>\n",
       "      <td>NaN</td>\n",
       "      <td>NC_000962.2</td>\n",
       "      <td>NaN</td>\n",
       "      <td>S</td>\n",
       "    </tr>\n",
       "  </tbody>\n",
       "</table>\n",
       "</div>"
      ],
      "text/plain": [
       "  DRUG  GENE   MUTATION POSITION   GENE_MUTATION GENE_TYPE VARIANT_AFFECTS  \\\n",
       "0  AMI  gidB  202_indel      202  gidB_202_indel      GENE             CDS   \n",
       "1  AMI  gidB  215_indel      215  gidB_215_indel      GENE             CDS   \n",
       "2  AMI  gidB  293_indel      293  gidB_293_indel      GENE             CDS   \n",
       "3  AMI  gidB  399_indel      399  gidB_399_indel      GENE             CDS   \n",
       "4  AMI  gidB  451_indel      451  gidB_451_indel      GENE             CDS   \n",
       "\n",
       "  VARIANT_TYPE  INDEL_1     INDEL_2     INDEL_3 GENBANK_REFERENCE  \\\n",
       "0        INDEL  202_del   202_del_1         NaN       NC_000962.2   \n",
       "1        INDEL  215_del   215_del_1         NaN       NC_000962.2   \n",
       "2        INDEL  293_ins   293_ins_2  293_ins_ac       NC_000962.2   \n",
       "3        INDEL  399_del  399_del_10         NaN       NC_000962.2   \n",
       "4        INDEL  451_del   451_del_1         NaN       NC_000962.2   \n",
       "\n",
       "  LID2015A_PREDICTION LID2015B_PREDICTION  \n",
       "0                   U                   U  \n",
       "1                   S                   S  \n",
       "2                 NaN                   U  \n",
       "3                 NaN                   S  \n",
       "4                 NaN                   S  "
      ]
     },
     "execution_count": 4,
     "metadata": {},
     "output_type": "execute_result"
    }
   ],
   "source": [
    "lid_catalogue[:5]"
   ]
  },
  {
   "cell_type": "markdown",
   "metadata": {},
   "source": [
    "Let's check a well-known mutation that confers resistance to rifampicin"
   ]
  },
  {
   "cell_type": "code",
   "execution_count": 5,
   "metadata": {},
   "outputs": [
    {
     "data": {
      "text/html": [
       "<div>\n",
       "<style scoped>\n",
       "    .dataframe tbody tr th:only-of-type {\n",
       "        vertical-align: middle;\n",
       "    }\n",
       "\n",
       "    .dataframe tbody tr th {\n",
       "        vertical-align: top;\n",
       "    }\n",
       "\n",
       "    .dataframe thead th {\n",
       "        text-align: right;\n",
       "    }\n",
       "</style>\n",
       "<table border=\"1\" class=\"dataframe\">\n",
       "  <thead>\n",
       "    <tr style=\"text-align: right;\">\n",
       "      <th></th>\n",
       "      <th>DRUG</th>\n",
       "      <th>GENE</th>\n",
       "      <th>MUTATION</th>\n",
       "      <th>POSITION</th>\n",
       "      <th>GENE_MUTATION</th>\n",
       "      <th>GENE_TYPE</th>\n",
       "      <th>VARIANT_AFFECTS</th>\n",
       "      <th>VARIANT_TYPE</th>\n",
       "      <th>INDEL_1</th>\n",
       "      <th>INDEL_2</th>\n",
       "      <th>INDEL_3</th>\n",
       "      <th>GENBANK_REFERENCE</th>\n",
       "      <th>LID2015A_PREDICTION</th>\n",
       "      <th>LID2015B_PREDICTION</th>\n",
       "    </tr>\n",
       "  </thead>\n",
       "  <tbody>\n",
       "    <tr>\n",
       "      <th>2023</th>\n",
       "      <td>RIF</td>\n",
       "      <td>rpoB</td>\n",
       "      <td>S450L</td>\n",
       "      <td>450</td>\n",
       "      <td>rpoB_S450L</td>\n",
       "      <td>GENE</td>\n",
       "      <td>CDS</td>\n",
       "      <td>SNP</td>\n",
       "      <td>NaN</td>\n",
       "      <td>NaN</td>\n",
       "      <td>NaN</td>\n",
       "      <td>NC_000962.2</td>\n",
       "      <td>R</td>\n",
       "      <td>R</td>\n",
       "    </tr>\n",
       "  </tbody>\n",
       "</table>\n",
       "</div>"
      ],
      "text/plain": [
       "     DRUG  GENE MUTATION POSITION GENE_MUTATION GENE_TYPE VARIANT_AFFECTS  \\\n",
       "2023  RIF  rpoB    S450L      450    rpoB_S450L      GENE             CDS   \n",
       "\n",
       "     VARIANT_TYPE INDEL_1 INDEL_2 INDEL_3 GENBANK_REFERENCE  \\\n",
       "2023          SNP     NaN     NaN     NaN       NC_000962.2   \n",
       "\n",
       "     LID2015A_PREDICTION LID2015B_PREDICTION  \n",
       "2023                   R                   R  "
      ]
     },
     "execution_count": 5,
     "metadata": {},
     "output_type": "execute_result"
    }
   ],
   "source": [
    "lid_catalogue.loc[lid_catalogue.GENE_MUTATION==\"rpoB_S450L\"]"
   ]
  },
  {
   "cell_type": "markdown",
   "metadata": {},
   "source": [
    "These are the default rules that have been added for this gene"
   ]
  },
  {
   "cell_type": "code",
   "execution_count": 6,
   "metadata": {},
   "outputs": [
    {
     "data": {
      "text/html": [
       "<div>\n",
       "<style scoped>\n",
       "    .dataframe tbody tr th:only-of-type {\n",
       "        vertical-align: middle;\n",
       "    }\n",
       "\n",
       "    .dataframe tbody tr th {\n",
       "        vertical-align: top;\n",
       "    }\n",
       "\n",
       "    .dataframe thead th {\n",
       "        text-align: right;\n",
       "    }\n",
       "</style>\n",
       "<table border=\"1\" class=\"dataframe\">\n",
       "  <thead>\n",
       "    <tr style=\"text-align: right;\">\n",
       "      <th></th>\n",
       "      <th>DRUG</th>\n",
       "      <th>GENE</th>\n",
       "      <th>MUTATION</th>\n",
       "      <th>POSITION</th>\n",
       "      <th>GENE_MUTATION</th>\n",
       "      <th>GENE_TYPE</th>\n",
       "      <th>VARIANT_AFFECTS</th>\n",
       "      <th>VARIANT_TYPE</th>\n",
       "      <th>INDEL_1</th>\n",
       "      <th>INDEL_2</th>\n",
       "      <th>INDEL_3</th>\n",
       "      <th>GENBANK_REFERENCE</th>\n",
       "      <th>LID2015A_PREDICTION</th>\n",
       "      <th>LID2015B_PREDICTION</th>\n",
       "    </tr>\n",
       "  </thead>\n",
       "  <tbody>\n",
       "    <tr>\n",
       "      <th>2453</th>\n",
       "      <td>RIF</td>\n",
       "      <td>rpoB</td>\n",
       "      <td>*=</td>\n",
       "      <td>*</td>\n",
       "      <td>rpoB_*=</td>\n",
       "      <td>GENE</td>\n",
       "      <td>CDS</td>\n",
       "      <td>SNP</td>\n",
       "      <td>NaN</td>\n",
       "      <td>NaN</td>\n",
       "      <td>NaN</td>\n",
       "      <td>NC_000962.2</td>\n",
       "      <td>S</td>\n",
       "      <td>S</td>\n",
       "    </tr>\n",
       "    <tr>\n",
       "      <th>2454</th>\n",
       "      <td>RIF</td>\n",
       "      <td>rpoB</td>\n",
       "      <td>*?</td>\n",
       "      <td>*</td>\n",
       "      <td>rpoB_*?</td>\n",
       "      <td>GENE</td>\n",
       "      <td>CDS</td>\n",
       "      <td>SNP</td>\n",
       "      <td>NaN</td>\n",
       "      <td>NaN</td>\n",
       "      <td>NaN</td>\n",
       "      <td>NC_000962.2</td>\n",
       "      <td>U</td>\n",
       "      <td>U</td>\n",
       "    </tr>\n",
       "    <tr>\n",
       "      <th>2455</th>\n",
       "      <td>RIF</td>\n",
       "      <td>rpoB</td>\n",
       "      <td>-*?</td>\n",
       "      <td>*</td>\n",
       "      <td>rpoB_-*?</td>\n",
       "      <td>GENE</td>\n",
       "      <td>PROM</td>\n",
       "      <td>SNP</td>\n",
       "      <td>NaN</td>\n",
       "      <td>NaN</td>\n",
       "      <td>NaN</td>\n",
       "      <td>NC_000962.2</td>\n",
       "      <td>U</td>\n",
       "      <td>U</td>\n",
       "    </tr>\n",
       "    <tr>\n",
       "      <th>2456</th>\n",
       "      <td>RIF</td>\n",
       "      <td>rpoB</td>\n",
       "      <td>*_indel</td>\n",
       "      <td>*</td>\n",
       "      <td>rpoB_*_indel</td>\n",
       "      <td>GENE</td>\n",
       "      <td>CDS</td>\n",
       "      <td>INDEL</td>\n",
       "      <td>NaN</td>\n",
       "      <td>NaN</td>\n",
       "      <td>NaN</td>\n",
       "      <td>NC_000962.2</td>\n",
       "      <td>U</td>\n",
       "      <td>U</td>\n",
       "    </tr>\n",
       "    <tr>\n",
       "      <th>2457</th>\n",
       "      <td>RIF</td>\n",
       "      <td>rpoB</td>\n",
       "      <td>-*_indel</td>\n",
       "      <td>*</td>\n",
       "      <td>rpoB_-*_indel</td>\n",
       "      <td>GENE</td>\n",
       "      <td>PROM</td>\n",
       "      <td>INDEL</td>\n",
       "      <td>NaN</td>\n",
       "      <td>NaN</td>\n",
       "      <td>NaN</td>\n",
       "      <td>NC_000962.2</td>\n",
       "      <td>U</td>\n",
       "      <td>U</td>\n",
       "    </tr>\n",
       "  </tbody>\n",
       "</table>\n",
       "</div>"
      ],
      "text/plain": [
       "     DRUG  GENE  MUTATION POSITION  GENE_MUTATION GENE_TYPE VARIANT_AFFECTS  \\\n",
       "2453  RIF  rpoB        *=        *        rpoB_*=      GENE             CDS   \n",
       "2454  RIF  rpoB        *?        *        rpoB_*?      GENE             CDS   \n",
       "2455  RIF  rpoB       -*?        *       rpoB_-*?      GENE            PROM   \n",
       "2456  RIF  rpoB   *_indel        *   rpoB_*_indel      GENE             CDS   \n",
       "2457  RIF  rpoB  -*_indel        *  rpoB_-*_indel      GENE            PROM   \n",
       "\n",
       "     VARIANT_TYPE INDEL_1 INDEL_2 INDEL_3 GENBANK_REFERENCE  \\\n",
       "2453          SNP     NaN     NaN     NaN       NC_000962.2   \n",
       "2454          SNP     NaN     NaN     NaN       NC_000962.2   \n",
       "2455          SNP     NaN     NaN     NaN       NC_000962.2   \n",
       "2456        INDEL     NaN     NaN     NaN       NC_000962.2   \n",
       "2457        INDEL     NaN     NaN     NaN       NC_000962.2   \n",
       "\n",
       "     LID2015A_PREDICTION LID2015B_PREDICTION  \n",
       "2453                   S                   S  \n",
       "2454                   U                   U  \n",
       "2455                   U                   U  \n",
       "2456                   U                   U  \n",
       "2457                   U                   U  "
      ]
     },
     "execution_count": 6,
     "metadata": {},
     "output_type": "execute_result"
    }
   ],
   "source": [
    "lid_catalogue.loc[(lid_catalogue.GENE==\"rpoB\") & (lid_catalogue.POSITION==\"*\")]"
   ]
  },
  {
   "cell_type": "markdown",
   "metadata": {},
   "source": [
    "`*=` means any synonymous mutation in the protein coding sequence (CDS). Here `*` is reserved for 'any position' and `!` for the Stop codon. `*?` is any non-synoymous mutation in the CDS and `*_indel` is any insertion or deletion at any position in the CDS. Finally, `-*?` and `-*_indel` mean any nonsynoymous mutation or insertion/deletion in the promoter, respectively"
   ]
  },
  {
   "cell_type": "markdown",
   "metadata": {},
   "source": [
    "## Instantiating a catalogue\n",
    "\n",
    "You need to specify the catalogue CSV, the matching GenBank file and the name of the catalogue (since a single CSV can have multiple columns associated with a prediction: there MUST be a column called \"LID2015B_PREDICTION\" otherwise the code will complain).\n",
    "\n"
   ]
  },
  {
   "cell_type": "code",
   "execution_count": 7,
   "metadata": {},
   "outputs": [],
   "source": [
    "cat=piezo.ResistanceCatalogue(input_file=\"config/LID2015-RSU-catalogue-v1.0-H37rV_v2.csv\",\n",
    "                              genbank_file=\"config/H37rV_v2.gbk\",\n",
    "                              catalogue_name=\"LID2015B\")"
   ]
  },
  {
   "cell_type": "markdown",
   "metadata": {},
   "source": [
    "## Predicting the effect of a mutation\n",
    "\n",
    "Now it is a simple as using the `predict()` method. This method takes two arguments, (1) `gene_mutation` which requires mutations in the form `gene_mutation` e.g. `rpoB_S450L` or `rpoB_1300_ins` and (2) `verbose` which if set to `True` the code will print out to STDOUT the rules that have been met for that mutation and their associated priorties. The prediction with the highest priority is then chosen."
   ]
  },
  {
   "cell_type": "code",
   "execution_count": 8,
   "metadata": {},
   "outputs": [
    {
     "data": {
      "text/plain": [
       "{'RIF': 'R'}"
      ]
     },
     "execution_count": 8,
     "metadata": {},
     "output_type": "execute_result"
    }
   ],
   "source": [
    "cat.predict(gene_mutation='rpoB_S450L')"
   ]
  },
  {
   "cell_type": "markdown",
   "metadata": {},
   "source": [
    "A dictionary is returned since a single genetic variant can affect multiple drugs, for example"
   ]
  },
  {
   "cell_type": "code",
   "execution_count": 9,
   "metadata": {},
   "outputs": [
    {
     "data": {
      "text/plain": [
       "{'CIP': 'U', 'MXF': 'R', 'OFX': 'R'}"
      ]
     },
     "execution_count": 9,
     "metadata": {},
     "output_type": "execute_result"
    }
   ],
   "source": [
    "cat.predict(gene_mutation='gyrA_A90V')"
   ]
  },
  {
   "cell_type": "markdown",
   "metadata": {},
   "source": [
    "These are the rows in the catalogue that will be considered for a mutation at `rpoB_S450` "
   ]
  },
  {
   "cell_type": "code",
   "execution_count": 10,
   "metadata": {},
   "outputs": [
    {
     "data": {
      "text/html": [
       "<div>\n",
       "<style scoped>\n",
       "    .dataframe tbody tr th:only-of-type {\n",
       "        vertical-align: middle;\n",
       "    }\n",
       "\n",
       "    .dataframe tbody tr th {\n",
       "        vertical-align: top;\n",
       "    }\n",
       "\n",
       "    .dataframe thead th {\n",
       "        text-align: right;\n",
       "    }\n",
       "</style>\n",
       "<table border=\"1\" class=\"dataframe\">\n",
       "  <thead>\n",
       "    <tr style=\"text-align: right;\">\n",
       "      <th></th>\n",
       "      <th>DRUG</th>\n",
       "      <th>GENE</th>\n",
       "      <th>MUTATION</th>\n",
       "      <th>POSITION</th>\n",
       "      <th>GENE_MUTATION</th>\n",
       "      <th>GENE_TYPE</th>\n",
       "      <th>VARIANT_AFFECTS</th>\n",
       "      <th>VARIANT_TYPE</th>\n",
       "      <th>INDEL_1</th>\n",
       "      <th>INDEL_2</th>\n",
       "      <th>INDEL_3</th>\n",
       "      <th>GENBANK_REFERENCE</th>\n",
       "      <th>LID2015A_PREDICTION</th>\n",
       "      <th>LID2015B_PREDICTION</th>\n",
       "    </tr>\n",
       "  </thead>\n",
       "  <tbody>\n",
       "    <tr>\n",
       "      <th>2022</th>\n",
       "      <td>RIF</td>\n",
       "      <td>rpoB</td>\n",
       "      <td>S450F</td>\n",
       "      <td>450</td>\n",
       "      <td>rpoB_S450F</td>\n",
       "      <td>GENE</td>\n",
       "      <td>CDS</td>\n",
       "      <td>SNP</td>\n",
       "      <td>NaN</td>\n",
       "      <td>NaN</td>\n",
       "      <td>NaN</td>\n",
       "      <td>NC_000962.2</td>\n",
       "      <td>R</td>\n",
       "      <td>R</td>\n",
       "    </tr>\n",
       "    <tr>\n",
       "      <th>2023</th>\n",
       "      <td>RIF</td>\n",
       "      <td>rpoB</td>\n",
       "      <td>S450L</td>\n",
       "      <td>450</td>\n",
       "      <td>rpoB_S450L</td>\n",
       "      <td>GENE</td>\n",
       "      <td>CDS</td>\n",
       "      <td>SNP</td>\n",
       "      <td>NaN</td>\n",
       "      <td>NaN</td>\n",
       "      <td>NaN</td>\n",
       "      <td>NC_000962.2</td>\n",
       "      <td>R</td>\n",
       "      <td>R</td>\n",
       "    </tr>\n",
       "    <tr>\n",
       "      <th>2024</th>\n",
       "      <td>RIF</td>\n",
       "      <td>rpoB</td>\n",
       "      <td>S450Q</td>\n",
       "      <td>450</td>\n",
       "      <td>rpoB_S450Q</td>\n",
       "      <td>GENE</td>\n",
       "      <td>CDS</td>\n",
       "      <td>SNP</td>\n",
       "      <td>NaN</td>\n",
       "      <td>NaN</td>\n",
       "      <td>NaN</td>\n",
       "      <td>NC_000962.2</td>\n",
       "      <td>NaN</td>\n",
       "      <td>U</td>\n",
       "    </tr>\n",
       "    <tr>\n",
       "      <th>2025</th>\n",
       "      <td>RIF</td>\n",
       "      <td>rpoB</td>\n",
       "      <td>S450W</td>\n",
       "      <td>450</td>\n",
       "      <td>rpoB_S450W</td>\n",
       "      <td>GENE</td>\n",
       "      <td>CDS</td>\n",
       "      <td>SNP</td>\n",
       "      <td>NaN</td>\n",
       "      <td>NaN</td>\n",
       "      <td>NaN</td>\n",
       "      <td>NC_000962.2</td>\n",
       "      <td>R</td>\n",
       "      <td>R</td>\n",
       "    </tr>\n",
       "    <tr>\n",
       "      <th>2453</th>\n",
       "      <td>RIF</td>\n",
       "      <td>rpoB</td>\n",
       "      <td>*=</td>\n",
       "      <td>*</td>\n",
       "      <td>rpoB_*=</td>\n",
       "      <td>GENE</td>\n",
       "      <td>CDS</td>\n",
       "      <td>SNP</td>\n",
       "      <td>NaN</td>\n",
       "      <td>NaN</td>\n",
       "      <td>NaN</td>\n",
       "      <td>NC_000962.2</td>\n",
       "      <td>S</td>\n",
       "      <td>S</td>\n",
       "    </tr>\n",
       "    <tr>\n",
       "      <th>2454</th>\n",
       "      <td>RIF</td>\n",
       "      <td>rpoB</td>\n",
       "      <td>*?</td>\n",
       "      <td>*</td>\n",
       "      <td>rpoB_*?</td>\n",
       "      <td>GENE</td>\n",
       "      <td>CDS</td>\n",
       "      <td>SNP</td>\n",
       "      <td>NaN</td>\n",
       "      <td>NaN</td>\n",
       "      <td>NaN</td>\n",
       "      <td>NC_000962.2</td>\n",
       "      <td>U</td>\n",
       "      <td>U</td>\n",
       "    </tr>\n",
       "  </tbody>\n",
       "</table>\n",
       "</div>"
      ],
      "text/plain": [
       "     DRUG  GENE MUTATION POSITION GENE_MUTATION GENE_TYPE VARIANT_AFFECTS  \\\n",
       "2022  RIF  rpoB    S450F      450    rpoB_S450F      GENE             CDS   \n",
       "2023  RIF  rpoB    S450L      450    rpoB_S450L      GENE             CDS   \n",
       "2024  RIF  rpoB    S450Q      450    rpoB_S450Q      GENE             CDS   \n",
       "2025  RIF  rpoB    S450W      450    rpoB_S450W      GENE             CDS   \n",
       "2453  RIF  rpoB       *=        *       rpoB_*=      GENE             CDS   \n",
       "2454  RIF  rpoB       *?        *       rpoB_*?      GENE             CDS   \n",
       "\n",
       "     VARIANT_TYPE INDEL_1 INDEL_2 INDEL_3 GENBANK_REFERENCE  \\\n",
       "2022          SNP     NaN     NaN     NaN       NC_000962.2   \n",
       "2023          SNP     NaN     NaN     NaN       NC_000962.2   \n",
       "2024          SNP     NaN     NaN     NaN       NC_000962.2   \n",
       "2025          SNP     NaN     NaN     NaN       NC_000962.2   \n",
       "2453          SNP     NaN     NaN     NaN       NC_000962.2   \n",
       "2454          SNP     NaN     NaN     NaN       NC_000962.2   \n",
       "\n",
       "     LID2015A_PREDICTION LID2015B_PREDICTION  \n",
       "2022                   R                   R  \n",
       "2023                   R                   R  \n",
       "2024                 NaN                   U  \n",
       "2025                   R                   R  \n",
       "2453                   S                   S  \n",
       "2454                   U                   U  "
      ]
     },
     "execution_count": 10,
     "metadata": {},
     "output_type": "execute_result"
    }
   ],
   "source": [
    "cat.resistance_catalogue.loc[(cat.resistance_catalogue.GENE=='rpoB') & \n",
    "                             (cat.resistance_catalogue.POSITION.isin(['*','450'])) &\n",
    "                             (cat.resistance_catalogue.VARIANT_TYPE=='SNP') & \n",
    "                             (cat.resistance_catalogue.VARIANT_AFFECTS=='CDS')]"
   ]
  },
  {
   "cell_type": "markdown",
   "metadata": {},
   "source": [
    "So, let's repeat the prediction and see which rules are hit"
   ]
  },
  {
   "cell_type": "code",
   "execution_count": 11,
   "metadata": {},
   "outputs": [
    {
     "name": "stdout",
     "output_type": "stream",
     "text": [
      "RIF rpoB_S450L\n",
      "2. U nonsyn SNP at any position in the CDS or PROM\n",
      "4. R exact SNP match\n",
      "----------------------\n"
     ]
    },
    {
     "data": {
      "text/plain": [
       "{'RIF': 'R'}"
      ]
     },
     "execution_count": 11,
     "metadata": {},
     "output_type": "execute_result"
    }
   ],
   "source": [
    "cat.predict(gene_mutation='rpoB_S450L',verbose=True)"
   ]
  },
  {
   "cell_type": "markdown",
   "metadata": {},
   "source": [
    "As you can see the mutation first matches `rpoB_*?` (any non-synoymous mutation in the protein coding region of rpoB) and this has a priority of 2. It then matches an exact rule for `rpoB_S450L` which has a priority of 4. The predicted phenotype of the rule with the highest priority is returned, in this case `R` as expected."
   ]
  },
  {
   "cell_type": "markdown",
   "metadata": {},
   "source": [
    "This hierarchical approach will become increasingly important, for example, the `fabG1_L203L` synonymous mutation is (unusually) predicted to confer resistance to INH, however, simply adding a specific row to the catalogue will naturally ensure the specific rule overrides the default rule that any synoymous mutation is assumed to be susceptible."
   ]
  },
  {
   "cell_type": "markdown",
   "metadata": {},
   "source": [
    "## Validation\n",
    "\n",
    "The code uses a separate repository called [gemucator](https://github.com/philipwfowler/gemucator). You instantiate a copy of the class with the correct (i.e. same) GenBank file.\n",
    "\n",
    "This all happens \"under the hood\" in the piezo module, but it is useful to see the extent of validation that is performed on each mutation."
   ]
  },
  {
   "cell_type": "code",
   "execution_count": 12,
   "metadata": {},
   "outputs": [],
   "source": [
    "from gemucator import gemucator"
   ]
  },
  {
   "cell_type": "code",
   "execution_count": 13,
   "metadata": {},
   "outputs": [],
   "source": [
    "tb=gemucator(genbank_file=\"config/H37rV_v2.gbk\")"
   ]
  },
  {
   "cell_type": "markdown",
   "metadata": {},
   "source": [
    "The two methods most useful for validation are `valid_gene` and `valid_mutation`. "
   ]
  },
  {
   "cell_type": "code",
   "execution_count": 14,
   "metadata": {},
   "outputs": [
    {
     "data": {
      "text/plain": [
       "True"
      ]
     },
     "execution_count": 14,
     "metadata": {},
     "output_type": "execute_result"
    }
   ],
   "source": [
    "tb.valid_gene(\"rpoB\")"
   ]
  },
  {
   "cell_type": "markdown",
   "metadata": {},
   "source": [
    "Let's try a gene that doesn't exist"
   ]
  },
  {
   "cell_type": "code",
   "execution_count": 15,
   "metadata": {},
   "outputs": [
    {
     "data": {
      "text/plain": [
       "False"
      ]
     },
     "execution_count": 15,
     "metadata": {},
     "output_type": "execute_result"
    }
   ],
   "source": [
    "tb.valid_gene(\"rpoD\")"
   ]
  },
  {
   "cell_type": "code",
   "execution_count": 16,
   "metadata": {},
   "outputs": [
    {
     "data": {
      "text/plain": [
       "True"
      ]
     },
     "execution_count": 16,
     "metadata": {},
     "output_type": "execute_result"
    }
   ],
   "source": [
    "tb.valid_mutation(\"rpoB_S450L\")"
   ]
  },
  {
   "cell_type": "markdown",
   "metadata": {},
   "source": [
    "and a mutation that doesn't (this checks the REF amino acid against the GenBank file which isn't often done but should be correct, as otherwise there may be an inconsistency between the catalogue and the GenBank File)"
   ]
  },
  {
   "cell_type": "code",
   "execution_count": 17,
   "metadata": {},
   "outputs": [
    {
     "data": {
      "text/plain": [
       "False"
      ]
     },
     "execution_count": 17,
     "metadata": {},
     "output_type": "execute_result"
    }
   ],
   "source": [
    "tb.valid_mutation(\"rpoB_T450L\")"
   ]
  },
  {
   "cell_type": "markdown",
   "metadata": {},
   "source": [
    "It also insists that all amino acids are UPPERCASE and are drawn from the correct 20 amino acid alphabet and nucleotides are lowercase `[a,c,t,g]`"
   ]
  },
  {
   "cell_type": "code",
   "execution_count": 18,
   "metadata": {},
   "outputs": [
    {
     "ename": "AssertionError",
     "evalue": "J is not an amino acid!",
     "output_type": "error",
     "traceback": [
      "\u001b[0;31m---------------------------------------------------------------------------\u001b[0m",
      "\u001b[0;31mAssertionError\u001b[0m                            Traceback (most recent call last)",
      "\u001b[0;32m<ipython-input-18-7ad6a16341d7>\u001b[0m in \u001b[0;36m<module>\u001b[0;34m()\u001b[0m\n\u001b[0;32m----> 1\u001b[0;31m \u001b[0mtb\u001b[0m\u001b[0;34m.\u001b[0m\u001b[0mvalid_mutation\u001b[0m\u001b[0;34m(\u001b[0m\u001b[0;34m\"rpoB_J450L\"\u001b[0m\u001b[0;34m)\u001b[0m\u001b[0;34m\u001b[0m\u001b[0m\n\u001b[0m",
      "\u001b[0;32m~/packages/gemucator/gemucator/core.py\u001b[0m in \u001b[0;36mvalid_mutation\u001b[0;34m(self, mutation, nucleotide_mutation)\u001b[0m\n\u001b[1;32m     70\u001b[0m         '''\n\u001b[1;32m     71\u001b[0m \u001b[0;34m\u001b[0m\u001b[0m\n\u001b[0;32m---> 72\u001b[0;31m         \u001b[0mresult\u001b[0m\u001b[0;34m=\u001b[0m\u001b[0mself\u001b[0m\u001b[0;34m.\u001b[0m\u001b[0m_analyse_mutation\u001b[0m\u001b[0;34m(\u001b[0m\u001b[0mmutation\u001b[0m\u001b[0;34m,\u001b[0m\u001b[0mnucleotide_mutation\u001b[0m\u001b[0;34m=\u001b[0m\u001b[0mnucleotide_mutation\u001b[0m\u001b[0;34m)\u001b[0m\u001b[0;34m\u001b[0m\u001b[0m\n\u001b[0m\u001b[1;32m     73\u001b[0m \u001b[0;34m\u001b[0m\u001b[0m\n\u001b[1;32m     74\u001b[0m         \u001b[0;32mif\u001b[0m \u001b[0mresult\u001b[0m\u001b[0;34m[\u001b[0m\u001b[0;36m0\u001b[0m\u001b[0;34m]\u001b[0m\u001b[0;34m:\u001b[0m\u001b[0;34m\u001b[0m\u001b[0m\n",
      "\u001b[0;32m~/packages/gemucator/gemucator/core.py\u001b[0m in \u001b[0;36m_analyse_mutation\u001b[0;34m(self, mutation, nucleotide_mutation)\u001b[0m\n\u001b[1;32m    150\u001b[0m \u001b[0;34m\u001b[0m\u001b[0m\n\u001b[1;32m    151\u001b[0m                     \u001b[0;32mif\u001b[0m \u001b[0;32mnot\u001b[0m \u001b[0mwildcard\u001b[0m\u001b[0;34m:\u001b[0m\u001b[0;34m\u001b[0m\u001b[0m\n\u001b[0;32m--> 152\u001b[0;31m                         \u001b[0;32massert\u001b[0m \u001b[0mbefore\u001b[0m \u001b[0;32min\u001b[0m \u001b[0;34m[\u001b[0m\u001b[0;34m\"!\"\u001b[0m\u001b[0;34m,\u001b[0m\u001b[0;34m'A'\u001b[0m\u001b[0;34m,\u001b[0m\u001b[0;34m'C'\u001b[0m\u001b[0;34m,\u001b[0m\u001b[0;34m'D'\u001b[0m\u001b[0;34m,\u001b[0m\u001b[0;34m'E'\u001b[0m\u001b[0;34m,\u001b[0m\u001b[0;34m'F'\u001b[0m\u001b[0;34m,\u001b[0m\u001b[0;34m'G'\u001b[0m\u001b[0;34m,\u001b[0m\u001b[0;34m'H'\u001b[0m\u001b[0;34m,\u001b[0m\u001b[0;34m'I'\u001b[0m\u001b[0;34m,\u001b[0m\u001b[0;34m'K'\u001b[0m\u001b[0;34m,\u001b[0m\u001b[0;34m'L'\u001b[0m\u001b[0;34m,\u001b[0m\u001b[0;34m'M'\u001b[0m\u001b[0;34m,\u001b[0m\u001b[0;34m'N'\u001b[0m\u001b[0;34m,\u001b[0m\u001b[0;34m'P'\u001b[0m\u001b[0;34m,\u001b[0m\u001b[0;34m'Q'\u001b[0m\u001b[0;34m,\u001b[0m\u001b[0;34m'R'\u001b[0m\u001b[0;34m,\u001b[0m\u001b[0;34m'S'\u001b[0m\u001b[0;34m,\u001b[0m\u001b[0;34m'T'\u001b[0m\u001b[0;34m,\u001b[0m\u001b[0;34m'V'\u001b[0m\u001b[0;34m,\u001b[0m\u001b[0;34m'W'\u001b[0m\u001b[0;34m,\u001b[0m\u001b[0;34m'X'\u001b[0m\u001b[0;34m,\u001b[0m\u001b[0;34m'Y'\u001b[0m\u001b[0;34m,\u001b[0m\u001b[0;34m'Z'\u001b[0m\u001b[0;34m]\u001b[0m\u001b[0;34m,\u001b[0m \u001b[0mbefore\u001b[0m\u001b[0;34m+\u001b[0m\u001b[0;34m\" is not an amino acid!\"\u001b[0m\u001b[0;34m\u001b[0m\u001b[0m\n\u001b[0m\u001b[1;32m    153\u001b[0m \u001b[0;34m\u001b[0m\u001b[0m\n\u001b[1;32m    154\u001b[0m                     \u001b[0;32massert\u001b[0m \u001b[0mafter\u001b[0m \u001b[0;32min\u001b[0m \u001b[0;34m[\u001b[0m\u001b[0;34m'='\u001b[0m\u001b[0;34m,\u001b[0m\u001b[0;34m'?'\u001b[0m\u001b[0;34m,\u001b[0m\u001b[0;34m\"!\"\u001b[0m\u001b[0;34m,\u001b[0m\u001b[0;34m'A'\u001b[0m\u001b[0;34m,\u001b[0m\u001b[0;34m'C'\u001b[0m\u001b[0;34m,\u001b[0m\u001b[0;34m'D'\u001b[0m\u001b[0;34m,\u001b[0m\u001b[0;34m'E'\u001b[0m\u001b[0;34m,\u001b[0m\u001b[0;34m'F'\u001b[0m\u001b[0;34m,\u001b[0m\u001b[0;34m'G'\u001b[0m\u001b[0;34m,\u001b[0m\u001b[0;34m'H'\u001b[0m\u001b[0;34m,\u001b[0m\u001b[0;34m'I'\u001b[0m\u001b[0;34m,\u001b[0m\u001b[0;34m'K'\u001b[0m\u001b[0;34m,\u001b[0m\u001b[0;34m'L'\u001b[0m\u001b[0;34m,\u001b[0m\u001b[0;34m'M'\u001b[0m\u001b[0;34m,\u001b[0m\u001b[0;34m'N'\u001b[0m\u001b[0;34m,\u001b[0m\u001b[0;34m'P'\u001b[0m\u001b[0;34m,\u001b[0m\u001b[0;34m'Q'\u001b[0m\u001b[0;34m,\u001b[0m\u001b[0;34m'R'\u001b[0m\u001b[0;34m,\u001b[0m\u001b[0;34m'S'\u001b[0m\u001b[0;34m,\u001b[0m\u001b[0;34m'T'\u001b[0m\u001b[0;34m,\u001b[0m\u001b[0;34m'V'\u001b[0m\u001b[0;34m,\u001b[0m\u001b[0;34m'W'\u001b[0m\u001b[0;34m,\u001b[0m\u001b[0;34m'X'\u001b[0m\u001b[0;34m,\u001b[0m\u001b[0;34m'Y'\u001b[0m\u001b[0;34m,\u001b[0m\u001b[0;34m'Z'\u001b[0m\u001b[0;34m]\u001b[0m\u001b[0;34m,\u001b[0m \u001b[0mafter\u001b[0m\u001b[0;34m+\u001b[0m\u001b[0;34m\" is not an amino acid!\"\u001b[0m\u001b[0;34m\u001b[0m\u001b[0m\n",
      "\u001b[0;31mAssertionError\u001b[0m: J is not an amino acid!"
     ]
    }
   ],
   "source": [
    "tb.valid_mutation(\"rpoB_J450L\")"
   ]
  },
  {
   "cell_type": "code",
   "execution_count": 19,
   "metadata": {},
   "outputs": [
    {
     "data": {
      "text/plain": [
       "True"
      ]
     },
     "execution_count": 19,
     "metadata": {},
     "output_type": "execute_result"
    }
   ],
   "source": [
    "tb.valid_mutation(\"rpoB_c-15t\")"
   ]
  },
  {
   "cell_type": "code",
   "execution_count": 20,
   "metadata": {},
   "outputs": [
    {
     "ename": "AssertionError",
     "evalue": "d is not a nucleotide!",
     "output_type": "error",
     "traceback": [
      "\u001b[0;31m---------------------------------------------------------------------------\u001b[0m",
      "\u001b[0;31mAssertionError\u001b[0m                            Traceback (most recent call last)",
      "\u001b[0;32m<ipython-input-20-c96aba9e40e5>\u001b[0m in \u001b[0;36m<module>\u001b[0;34m()\u001b[0m\n\u001b[0;32m----> 1\u001b[0;31m \u001b[0mtb\u001b[0m\u001b[0;34m.\u001b[0m\u001b[0mvalid_mutation\u001b[0m\u001b[0;34m(\u001b[0m\u001b[0;34m\"rpoB_d-15t\"\u001b[0m\u001b[0;34m)\u001b[0m\u001b[0;34m\u001b[0m\u001b[0m\n\u001b[0m",
      "\u001b[0;32m~/packages/gemucator/gemucator/core.py\u001b[0m in \u001b[0;36mvalid_mutation\u001b[0;34m(self, mutation, nucleotide_mutation)\u001b[0m\n\u001b[1;32m     70\u001b[0m         '''\n\u001b[1;32m     71\u001b[0m \u001b[0;34m\u001b[0m\u001b[0m\n\u001b[0;32m---> 72\u001b[0;31m         \u001b[0mresult\u001b[0m\u001b[0;34m=\u001b[0m\u001b[0mself\u001b[0m\u001b[0;34m.\u001b[0m\u001b[0m_analyse_mutation\u001b[0m\u001b[0;34m(\u001b[0m\u001b[0mmutation\u001b[0m\u001b[0;34m,\u001b[0m\u001b[0mnucleotide_mutation\u001b[0m\u001b[0;34m=\u001b[0m\u001b[0mnucleotide_mutation\u001b[0m\u001b[0;34m)\u001b[0m\u001b[0;34m\u001b[0m\u001b[0m\n\u001b[0m\u001b[1;32m     73\u001b[0m \u001b[0;34m\u001b[0m\u001b[0m\n\u001b[1;32m     74\u001b[0m         \u001b[0;32mif\u001b[0m \u001b[0mresult\u001b[0m\u001b[0;34m[\u001b[0m\u001b[0;36m0\u001b[0m\u001b[0;34m]\u001b[0m\u001b[0;34m:\u001b[0m\u001b[0;34m\u001b[0m\u001b[0m\n",
      "\u001b[0;32m~/packages/gemucator/gemucator/core.py\u001b[0m in \u001b[0;36m_analyse_mutation\u001b[0;34m(self, mutation, nucleotide_mutation)\u001b[0m\n\u001b[1;32m    131\u001b[0m \u001b[0;34m\u001b[0m\u001b[0m\n\u001b[1;32m    132\u001b[0m                 \u001b[0;32mif\u001b[0m \u001b[0;32mnot\u001b[0m \u001b[0mwildcard\u001b[0m\u001b[0;34m:\u001b[0m\u001b[0;34m\u001b[0m\u001b[0m\n\u001b[0;32m--> 133\u001b[0;31m                     \u001b[0;32massert\u001b[0m \u001b[0mbefore\u001b[0m \u001b[0;32min\u001b[0m \u001b[0;34m[\u001b[0m\u001b[0;34m'c'\u001b[0m\u001b[0;34m,\u001b[0m\u001b[0;34m't'\u001b[0m\u001b[0;34m,\u001b[0m\u001b[0;34m'g'\u001b[0m\u001b[0;34m,\u001b[0m\u001b[0;34m'a'\u001b[0m\u001b[0;34m]\u001b[0m\u001b[0;34m,\u001b[0m \u001b[0mbefore\u001b[0m\u001b[0;34m+\u001b[0m\u001b[0;34m\" is not a nucleotide!\"\u001b[0m\u001b[0;34m\u001b[0m\u001b[0m\n\u001b[0m\u001b[1;32m    134\u001b[0m \u001b[0;34m\u001b[0m\u001b[0m\n\u001b[1;32m    135\u001b[0m                 \u001b[0;32massert\u001b[0m \u001b[0mafter\u001b[0m \u001b[0;32min\u001b[0m \u001b[0;34m[\u001b[0m\u001b[0;34m'c'\u001b[0m\u001b[0;34m,\u001b[0m\u001b[0;34m't'\u001b[0m\u001b[0;34m,\u001b[0m\u001b[0;34m'g'\u001b[0m\u001b[0;34m,\u001b[0m\u001b[0;34m'a'\u001b[0m\u001b[0;34m,\u001b[0m\u001b[0;34m'?'\u001b[0m\u001b[0;34m]\u001b[0m\u001b[0;34m,\u001b[0m \u001b[0mafter\u001b[0m\u001b[0;34m+\u001b[0m\u001b[0;34m\" is not a nucleotide!\"\u001b[0m\u001b[0;34m\u001b[0m\u001b[0m\n",
      "\u001b[0;31mAssertionError\u001b[0m: d is not a nucleotide!"
     ]
    }
   ],
   "source": [
    "tb.valid_mutation(\"rpoB_d-15t\")"
   ]
  },
  {
   "cell_type": "markdown",
   "metadata": {},
   "source": [
    "Now let's see it in action inside `piezo`"
   ]
  },
  {
   "cell_type": "code",
   "execution_count": 21,
   "metadata": {},
   "outputs": [
    {
     "ename": "AssertionError",
     "evalue": "J is not an amino acid!",
     "output_type": "error",
     "traceback": [
      "\u001b[0;31m---------------------------------------------------------------------------\u001b[0m",
      "\u001b[0;31mAssertionError\u001b[0m                            Traceback (most recent call last)",
      "\u001b[0;32m<ipython-input-21-6a9bfb815dc3>\u001b[0m in \u001b[0;36m<module>\u001b[0;34m()\u001b[0m\n\u001b[0;32m----> 1\u001b[0;31m \u001b[0mcat\u001b[0m\u001b[0;34m.\u001b[0m\u001b[0mpredict\u001b[0m\u001b[0;34m(\u001b[0m\u001b[0mgene_mutation\u001b[0m\u001b[0;34m=\u001b[0m\u001b[0;34m'rpoB_J450L'\u001b[0m\u001b[0;34m)\u001b[0m\u001b[0;34m\u001b[0m\u001b[0m\n\u001b[0m",
      "\u001b[0;32m~/packages/piezo/piezo/catalogue.py\u001b[0m in \u001b[0;36mpredict\u001b[0;34m(self, gene_mutation, verbose)\u001b[0m\n\u001b[1;32m    148\u001b[0m \u001b[0;34m\u001b[0m\u001b[0m\n\u001b[1;32m    149\u001b[0m         \u001b[0;31m# also check that the supplied mutation is valid given the reference genome\u001b[0m\u001b[0;34m\u001b[0m\u001b[0;34m\u001b[0m\u001b[0m\n\u001b[0;32m--> 150\u001b[0;31m         \u001b[0;32massert\u001b[0m \u001b[0mself\u001b[0m\u001b[0;34m.\u001b[0m\u001b[0mreference_genome\u001b[0m\u001b[0;34m.\u001b[0m\u001b[0mvalid_mutation\u001b[0m\u001b[0;34m(\u001b[0m\u001b[0mgene_mutation\u001b[0m\u001b[0;34m)\u001b[0m\u001b[0;34m,\u001b[0m \u001b[0;34m\"gene exists but \"\u001b[0m\u001b[0;34m+\u001b[0m\u001b[0mgene_mutation\u001b[0m\u001b[0;34m+\u001b[0m\u001b[0;34m\" is badly formed; check the reference amino acid or nucleotide!\"\u001b[0m\u001b[0;34m\u001b[0m\u001b[0m\n\u001b[0m\u001b[1;32m    151\u001b[0m \u001b[0;34m\u001b[0m\u001b[0m\n\u001b[1;32m    152\u001b[0m         \u001b[0;31m# parse the mutation to work out what type of mutation it is, where it acts etc\u001b[0m\u001b[0;34m\u001b[0m\u001b[0;34m\u001b[0m\u001b[0m\n",
      "\u001b[0;32m~/packages/gemucator/gemucator/core.py\u001b[0m in \u001b[0;36mvalid_mutation\u001b[0;34m(self, mutation, nucleotide_mutation)\u001b[0m\n\u001b[1;32m     70\u001b[0m         '''\n\u001b[1;32m     71\u001b[0m \u001b[0;34m\u001b[0m\u001b[0m\n\u001b[0;32m---> 72\u001b[0;31m         \u001b[0mresult\u001b[0m\u001b[0;34m=\u001b[0m\u001b[0mself\u001b[0m\u001b[0;34m.\u001b[0m\u001b[0m_analyse_mutation\u001b[0m\u001b[0;34m(\u001b[0m\u001b[0mmutation\u001b[0m\u001b[0;34m,\u001b[0m\u001b[0mnucleotide_mutation\u001b[0m\u001b[0;34m=\u001b[0m\u001b[0mnucleotide_mutation\u001b[0m\u001b[0;34m)\u001b[0m\u001b[0;34m\u001b[0m\u001b[0m\n\u001b[0m\u001b[1;32m     73\u001b[0m \u001b[0;34m\u001b[0m\u001b[0m\n\u001b[1;32m     74\u001b[0m         \u001b[0;32mif\u001b[0m \u001b[0mresult\u001b[0m\u001b[0;34m[\u001b[0m\u001b[0;36m0\u001b[0m\u001b[0;34m]\u001b[0m\u001b[0;34m:\u001b[0m\u001b[0;34m\u001b[0m\u001b[0m\n",
      "\u001b[0;32m~/packages/gemucator/gemucator/core.py\u001b[0m in \u001b[0;36m_analyse_mutation\u001b[0;34m(self, mutation, nucleotide_mutation)\u001b[0m\n\u001b[1;32m    150\u001b[0m \u001b[0;34m\u001b[0m\u001b[0m\n\u001b[1;32m    151\u001b[0m                     \u001b[0;32mif\u001b[0m \u001b[0;32mnot\u001b[0m \u001b[0mwildcard\u001b[0m\u001b[0;34m:\u001b[0m\u001b[0;34m\u001b[0m\u001b[0m\n\u001b[0;32m--> 152\u001b[0;31m                         \u001b[0;32massert\u001b[0m \u001b[0mbefore\u001b[0m \u001b[0;32min\u001b[0m \u001b[0;34m[\u001b[0m\u001b[0;34m\"!\"\u001b[0m\u001b[0;34m,\u001b[0m\u001b[0;34m'A'\u001b[0m\u001b[0;34m,\u001b[0m\u001b[0;34m'C'\u001b[0m\u001b[0;34m,\u001b[0m\u001b[0;34m'D'\u001b[0m\u001b[0;34m,\u001b[0m\u001b[0;34m'E'\u001b[0m\u001b[0;34m,\u001b[0m\u001b[0;34m'F'\u001b[0m\u001b[0;34m,\u001b[0m\u001b[0;34m'G'\u001b[0m\u001b[0;34m,\u001b[0m\u001b[0;34m'H'\u001b[0m\u001b[0;34m,\u001b[0m\u001b[0;34m'I'\u001b[0m\u001b[0;34m,\u001b[0m\u001b[0;34m'K'\u001b[0m\u001b[0;34m,\u001b[0m\u001b[0;34m'L'\u001b[0m\u001b[0;34m,\u001b[0m\u001b[0;34m'M'\u001b[0m\u001b[0;34m,\u001b[0m\u001b[0;34m'N'\u001b[0m\u001b[0;34m,\u001b[0m\u001b[0;34m'P'\u001b[0m\u001b[0;34m,\u001b[0m\u001b[0;34m'Q'\u001b[0m\u001b[0;34m,\u001b[0m\u001b[0;34m'R'\u001b[0m\u001b[0;34m,\u001b[0m\u001b[0;34m'S'\u001b[0m\u001b[0;34m,\u001b[0m\u001b[0;34m'T'\u001b[0m\u001b[0;34m,\u001b[0m\u001b[0;34m'V'\u001b[0m\u001b[0;34m,\u001b[0m\u001b[0;34m'W'\u001b[0m\u001b[0;34m,\u001b[0m\u001b[0;34m'X'\u001b[0m\u001b[0;34m,\u001b[0m\u001b[0;34m'Y'\u001b[0m\u001b[0;34m,\u001b[0m\u001b[0;34m'Z'\u001b[0m\u001b[0;34m]\u001b[0m\u001b[0;34m,\u001b[0m \u001b[0mbefore\u001b[0m\u001b[0;34m+\u001b[0m\u001b[0;34m\" is not an amino acid!\"\u001b[0m\u001b[0;34m\u001b[0m\u001b[0m\n\u001b[0m\u001b[1;32m    153\u001b[0m \u001b[0;34m\u001b[0m\u001b[0m\n\u001b[1;32m    154\u001b[0m                     \u001b[0;32massert\u001b[0m \u001b[0mafter\u001b[0m \u001b[0;32min\u001b[0m \u001b[0;34m[\u001b[0m\u001b[0;34m'='\u001b[0m\u001b[0;34m,\u001b[0m\u001b[0;34m'?'\u001b[0m\u001b[0;34m,\u001b[0m\u001b[0;34m\"!\"\u001b[0m\u001b[0;34m,\u001b[0m\u001b[0;34m'A'\u001b[0m\u001b[0;34m,\u001b[0m\u001b[0;34m'C'\u001b[0m\u001b[0;34m,\u001b[0m\u001b[0;34m'D'\u001b[0m\u001b[0;34m,\u001b[0m\u001b[0;34m'E'\u001b[0m\u001b[0;34m,\u001b[0m\u001b[0;34m'F'\u001b[0m\u001b[0;34m,\u001b[0m\u001b[0;34m'G'\u001b[0m\u001b[0;34m,\u001b[0m\u001b[0;34m'H'\u001b[0m\u001b[0;34m,\u001b[0m\u001b[0;34m'I'\u001b[0m\u001b[0;34m,\u001b[0m\u001b[0;34m'K'\u001b[0m\u001b[0;34m,\u001b[0m\u001b[0;34m'L'\u001b[0m\u001b[0;34m,\u001b[0m\u001b[0;34m'M'\u001b[0m\u001b[0;34m,\u001b[0m\u001b[0;34m'N'\u001b[0m\u001b[0;34m,\u001b[0m\u001b[0;34m'P'\u001b[0m\u001b[0;34m,\u001b[0m\u001b[0;34m'Q'\u001b[0m\u001b[0;34m,\u001b[0m\u001b[0;34m'R'\u001b[0m\u001b[0;34m,\u001b[0m\u001b[0;34m'S'\u001b[0m\u001b[0;34m,\u001b[0m\u001b[0;34m'T'\u001b[0m\u001b[0;34m,\u001b[0m\u001b[0;34m'V'\u001b[0m\u001b[0;34m,\u001b[0m\u001b[0;34m'W'\u001b[0m\u001b[0;34m,\u001b[0m\u001b[0;34m'X'\u001b[0m\u001b[0;34m,\u001b[0m\u001b[0;34m'Y'\u001b[0m\u001b[0;34m,\u001b[0m\u001b[0;34m'Z'\u001b[0m\u001b[0;34m]\u001b[0m\u001b[0;34m,\u001b[0m \u001b[0mafter\u001b[0m\u001b[0;34m+\u001b[0m\u001b[0;34m\" is not an amino acid!\"\u001b[0m\u001b[0;34m\u001b[0m\u001b[0m\n",
      "\u001b[0;31mAssertionError\u001b[0m: J is not an amino acid!"
     ]
    }
   ],
   "source": [
    "cat.predict(gene_mutation='rpoB_J450L')"
   ]
  },
  {
   "cell_type": "code",
   "execution_count": 22,
   "metadata": {},
   "outputs": [
    {
     "ename": "AssertionError",
     "evalue": "gene exists but rpoB_D450L is badly formed; check the reference amino acid or nucleotide!",
     "output_type": "error",
     "traceback": [
      "\u001b[0;31m---------------------------------------------------------------------------\u001b[0m",
      "\u001b[0;31mAssertionError\u001b[0m                            Traceback (most recent call last)",
      "\u001b[0;32m<ipython-input-22-c7ca3769d60a>\u001b[0m in \u001b[0;36m<module>\u001b[0;34m()\u001b[0m\n\u001b[0;32m----> 1\u001b[0;31m \u001b[0mcat\u001b[0m\u001b[0;34m.\u001b[0m\u001b[0mpredict\u001b[0m\u001b[0;34m(\u001b[0m\u001b[0mgene_mutation\u001b[0m\u001b[0;34m=\u001b[0m\u001b[0;34m'rpoB_D450L'\u001b[0m\u001b[0;34m)\u001b[0m\u001b[0;34m\u001b[0m\u001b[0m\n\u001b[0m",
      "\u001b[0;32m~/packages/piezo/piezo/catalogue.py\u001b[0m in \u001b[0;36mpredict\u001b[0;34m(self, gene_mutation, verbose)\u001b[0m\n\u001b[1;32m    148\u001b[0m \u001b[0;34m\u001b[0m\u001b[0m\n\u001b[1;32m    149\u001b[0m         \u001b[0;31m# also check that the supplied mutation is valid given the reference genome\u001b[0m\u001b[0;34m\u001b[0m\u001b[0;34m\u001b[0m\u001b[0m\n\u001b[0;32m--> 150\u001b[0;31m         \u001b[0;32massert\u001b[0m \u001b[0mself\u001b[0m\u001b[0;34m.\u001b[0m\u001b[0mreference_genome\u001b[0m\u001b[0;34m.\u001b[0m\u001b[0mvalid_mutation\u001b[0m\u001b[0;34m(\u001b[0m\u001b[0mgene_mutation\u001b[0m\u001b[0;34m)\u001b[0m\u001b[0;34m,\u001b[0m \u001b[0;34m\"gene exists but \"\u001b[0m\u001b[0;34m+\u001b[0m\u001b[0mgene_mutation\u001b[0m\u001b[0;34m+\u001b[0m\u001b[0;34m\" is badly formed; check the reference amino acid or nucleotide!\"\u001b[0m\u001b[0;34m\u001b[0m\u001b[0m\n\u001b[0m\u001b[1;32m    151\u001b[0m \u001b[0;34m\u001b[0m\u001b[0m\n\u001b[1;32m    152\u001b[0m         \u001b[0;31m# parse the mutation to work out what type of mutation it is, where it acts etc\u001b[0m\u001b[0;34m\u001b[0m\u001b[0;34m\u001b[0m\u001b[0m\n",
      "\u001b[0;31mAssertionError\u001b[0m: gene exists but rpoB_D450L is badly formed; check the reference amino acid or nucleotide!"
     ]
    }
   ],
   "source": [
    "cat.predict(gene_mutation='rpoB_D450L')"
   ]
  },
  {
   "cell_type": "code",
   "execution_count": 23,
   "metadata": {},
   "outputs": [
    {
     "ename": "AssertionError",
     "evalue": "rpoD does not exist in the specified GENBANK file!",
     "output_type": "error",
     "traceback": [
      "\u001b[0;31m---------------------------------------------------------------------------\u001b[0m",
      "\u001b[0;31mAssertionError\u001b[0m                            Traceback (most recent call last)",
      "\u001b[0;32m<ipython-input-23-d6f76174885e>\u001b[0m in \u001b[0;36m<module>\u001b[0;34m()\u001b[0m\n\u001b[0;32m----> 1\u001b[0;31m \u001b[0mcat\u001b[0m\u001b[0;34m.\u001b[0m\u001b[0mpredict\u001b[0m\u001b[0;34m(\u001b[0m\u001b[0mgene_mutation\u001b[0m\u001b[0;34m=\u001b[0m\u001b[0;34m'rpoD_S450L'\u001b[0m\u001b[0;34m)\u001b[0m\u001b[0;34m\u001b[0m\u001b[0m\n\u001b[0m",
      "\u001b[0;32m~/packages/piezo/piezo/catalogue.py\u001b[0m in \u001b[0;36mpredict\u001b[0;34m(self, gene_mutation, verbose)\u001b[0m\n\u001b[1;32m    145\u001b[0m \u001b[0;34m\u001b[0m\u001b[0m\n\u001b[1;32m    146\u001b[0m         \u001b[0;31m# check that the gene exists in the reference genome!\u001b[0m\u001b[0;34m\u001b[0m\u001b[0;34m\u001b[0m\u001b[0m\n\u001b[0;32m--> 147\u001b[0;31m         \u001b[0;32massert\u001b[0m \u001b[0mself\u001b[0m\u001b[0;34m.\u001b[0m\u001b[0mreference_genome\u001b[0m\u001b[0;34m.\u001b[0m\u001b[0mvalid_gene\u001b[0m\u001b[0;34m(\u001b[0m\u001b[0mgene_name\u001b[0m\u001b[0;34m)\u001b[0m\u001b[0;34m,\u001b[0m \u001b[0mgene_name\u001b[0m\u001b[0;34m+\u001b[0m\u001b[0;34m\" does not exist in the specified GENBANK file!\"\u001b[0m\u001b[0;34m\u001b[0m\u001b[0m\n\u001b[0m\u001b[1;32m    148\u001b[0m \u001b[0;34m\u001b[0m\u001b[0m\n\u001b[1;32m    149\u001b[0m         \u001b[0;31m# also check that the supplied mutation is valid given the reference genome\u001b[0m\u001b[0;34m\u001b[0m\u001b[0;34m\u001b[0m\u001b[0m\n",
      "\u001b[0;31mAssertionError\u001b[0m: rpoD does not exist in the specified GENBANK file!"
     ]
    }
   ],
   "source": [
    "cat.predict(gene_mutation='rpoD_S450L')"
   ]
  },
  {
   "cell_type": "markdown",
   "metadata": {},
   "source": [
    "It should be able to parse all the styles of mutations that are defined by GOARC, e.g."
   ]
  },
  {
   "cell_type": "code",
   "execution_count": 25,
   "metadata": {},
   "outputs": [
    {
     "data": {
      "text/plain": [
       "{'RIF': 'U'}"
      ]
     },
     "execution_count": 25,
     "metadata": {},
     "output_type": "execute_result"
    }
   ],
   "source": [
    "cat.predict(gene_mutation='rpoB_S450?')"
   ]
  },
  {
   "cell_type": "markdown",
   "metadata": {},
   "source": [
    "In GOARC, INDELs are put into a hierachy, but it parses them all"
   ]
  },
  {
   "cell_type": "code",
   "execution_count": 28,
   "metadata": {},
   "outputs": [
    {
     "data": {
      "text/plain": [
       "{'INH': 'U'}"
      ]
     },
     "execution_count": 28,
     "metadata": {},
     "output_type": "execute_result"
    }
   ],
   "source": [
    "cat.predict(gene_mutation='katG_100_indel')"
   ]
  },
  {
   "cell_type": "code",
   "execution_count": 29,
   "metadata": {},
   "outputs": [
    {
     "data": {
      "text/plain": [
       "{'INH': 'U'}"
      ]
     },
     "execution_count": 29,
     "metadata": {},
     "output_type": "execute_result"
    }
   ],
   "source": [
    "cat.predict(gene_mutation='katG_100_ins')"
   ]
  },
  {
   "cell_type": "code",
   "execution_count": 30,
   "metadata": {},
   "outputs": [
    {
     "data": {
      "text/plain": [
       "{'INH': 'U'}"
      ]
     },
     "execution_count": 30,
     "metadata": {},
     "output_type": "execute_result"
    }
   ],
   "source": [
    "cat.predict(gene_mutation='katG_100_del')"
   ]
  },
  {
   "cell_type": "code",
   "execution_count": 31,
   "metadata": {},
   "outputs": [
    {
     "data": {
      "text/plain": [
       "{'INH': 'U'}"
      ]
     },
     "execution_count": 31,
     "metadata": {},
     "output_type": "execute_result"
    }
   ],
   "source": [
    "cat.predict(gene_mutation='katG_100_ins_4')"
   ]
  },
  {
   "cell_type": "code",
   "execution_count": 32,
   "metadata": {},
   "outputs": [
    {
     "data": {
      "text/plain": [
       "{'INH': 'U'}"
      ]
     },
     "execution_count": 32,
     "metadata": {},
     "output_type": "execute_result"
    }
   ],
   "source": [
    "cat.predict(gene_mutation='katG_100_ins_actg')"
   ]
  }
 ],
 "metadata": {
  "kernelspec": {
   "display_name": "Python 3",
   "language": "python",
   "name": "python3"
  },
  "language_info": {
   "codemirror_mode": {
    "name": "ipython",
    "version": 3
   },
   "file_extension": ".py",
   "mimetype": "text/x-python",
   "name": "python",
   "nbconvert_exporter": "python",
   "pygments_lexer": "ipython3",
   "version": "3.5.6"
  }
 },
 "nbformat": 4,
 "nbformat_minor": 2
}
