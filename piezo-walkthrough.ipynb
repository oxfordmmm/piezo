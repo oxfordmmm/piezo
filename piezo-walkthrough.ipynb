{
 "cells": [
  {
   "cell_type": "markdown",
   "metadata": {},
   "source": [
    "# piezo\n",
    "\n",
    "This jupyter notebook walks you through the basic functionality of the Classes provided using the resistance catalogue `config/NEJM2018-RSU-catalogue-H37rV_v3.csv`. This is the catalogue published in the Supplement of this paper\n",
    "\n",
    "The CRyPTIC Consortium, 100000 Genomes Project. Prediction of Susceptibility to First-Line Tuberculosis Drugs by DNA Sequencing. N Engl J Med 2018;379:1403–1415. [http://doi.org/10.1056/NEJMoa1800474](doi:10.1056/NEJMoa1800474)\n",
    "\n",
    "It is important to note that this catalogue is relative to version 3 of the H37rV GenBank reference (the version published in the paper was with respect to version 2).\n",
    "\n",
    "The differences are\n",
    "* some default rows have been added which describe the underlying assumptions such as any synoymous mutation is susceptible (in other words, all the logic is now contained in the catalogue, not in the code)\n",
    "* the mutations are formatted according to the General Ontology for Antimicrobial Resistance Catalogues (GOARC) which is described in the NOMENCLATURE.md file in the repo and also [here](http://fowlerlab.org/2018/11/25/goarc-a-general-ontology-for-antimicrobial-resistance-catalogues/)\n",
    "\n",
    "Philip W Fowler\n",
    "\n",
    "8 Mar 2019"
   ]
  },
  {
   "cell_type": "code",
   "execution_count": 1,
   "metadata": {},
   "outputs": [],
   "source": [
    "# we will need pandas so we can have a look at the Resistance Catalogue which is stored as a CSV\n",
    "import pandas\n",
    "import piezo"
   ]
  },
  {
   "cell_type": "code",
   "execution_count": 5,
   "metadata": {},
   "outputs": [],
   "source": [
    "nejm_catalogue=pandas.read_csv(\"config/NEJM2018-RSU-catalogue-H37rV_v3.csv\")"
   ]
  },
  {
   "cell_type": "code",
   "execution_count": 6,
   "metadata": {},
   "outputs": [
    {
     "data": {
      "text/html": [
       "<div>\n",
       "<style scoped>\n",
       "    .dataframe tbody tr th:only-of-type {\n",
       "        vertical-align: middle;\n",
       "    }\n",
       "\n",
       "    .dataframe tbody tr th {\n",
       "        vertical-align: top;\n",
       "    }\n",
       "\n",
       "    .dataframe thead th {\n",
       "        text-align: right;\n",
       "    }\n",
       "</style>\n",
       "<table border=\"1\" class=\"dataframe\">\n",
       "  <thead>\n",
       "    <tr style=\"text-align: right;\">\n",
       "      <th></th>\n",
       "      <th>DRUG</th>\n",
       "      <th>GENE</th>\n",
       "      <th>MUTATION</th>\n",
       "      <th>POSITION</th>\n",
       "      <th>GENE_TYPE</th>\n",
       "      <th>VARIANT_AFFECTS</th>\n",
       "      <th>VARIANT_TYPE</th>\n",
       "      <th>GENBANK_REFERENCE</th>\n",
       "      <th>NEJM2018_PREDICTION</th>\n",
       "      <th>NEJM2018_PHYLOSNP</th>\n",
       "    </tr>\n",
       "  </thead>\n",
       "  <tbody>\n",
       "    <tr>\n",
       "      <th>0</th>\n",
       "      <td>EMB</td>\n",
       "      <td>embA</td>\n",
       "      <td>2723_indel</td>\n",
       "      <td>2723</td>\n",
       "      <td>GENE</td>\n",
       "      <td>CDS</td>\n",
       "      <td>INDEL</td>\n",
       "      <td>NC_000962.3</td>\n",
       "      <td>S</td>\n",
       "      <td>False</td>\n",
       "    </tr>\n",
       "    <tr>\n",
       "      <th>1</th>\n",
       "      <td>EMB</td>\n",
       "      <td>embA</td>\n",
       "      <td>A1015T</td>\n",
       "      <td>1015</td>\n",
       "      <td>GENE</td>\n",
       "      <td>CDS</td>\n",
       "      <td>SNP</td>\n",
       "      <td>NC_000962.3</td>\n",
       "      <td>S</td>\n",
       "      <td>False</td>\n",
       "    </tr>\n",
       "    <tr>\n",
       "      <th>2</th>\n",
       "      <td>EMB</td>\n",
       "      <td>embA</td>\n",
       "      <td>A1016S</td>\n",
       "      <td>1016</td>\n",
       "      <td>GENE</td>\n",
       "      <td>CDS</td>\n",
       "      <td>SNP</td>\n",
       "      <td>NC_000962.3</td>\n",
       "      <td>S</td>\n",
       "      <td>False</td>\n",
       "    </tr>\n",
       "    <tr>\n",
       "      <th>3</th>\n",
       "      <td>EMB</td>\n",
       "      <td>embA</td>\n",
       "      <td>A109T</td>\n",
       "      <td>109</td>\n",
       "      <td>GENE</td>\n",
       "      <td>CDS</td>\n",
       "      <td>SNP</td>\n",
       "      <td>NC_000962.3</td>\n",
       "      <td>S</td>\n",
       "      <td>False</td>\n",
       "    </tr>\n",
       "    <tr>\n",
       "      <th>4</th>\n",
       "      <td>EMB</td>\n",
       "      <td>embA</td>\n",
       "      <td>A201T</td>\n",
       "      <td>201</td>\n",
       "      <td>GENE</td>\n",
       "      <td>CDS</td>\n",
       "      <td>SNP</td>\n",
       "      <td>NC_000962.3</td>\n",
       "      <td>S</td>\n",
       "      <td>False</td>\n",
       "    </tr>\n",
       "  </tbody>\n",
       "</table>\n",
       "</div>"
      ],
      "text/plain": [
       "  DRUG  GENE    MUTATION POSITION GENE_TYPE VARIANT_AFFECTS VARIANT_TYPE  \\\n",
       "0  EMB  embA  2723_indel     2723      GENE             CDS        INDEL   \n",
       "1  EMB  embA      A1015T     1015      GENE             CDS          SNP   \n",
       "2  EMB  embA      A1016S     1016      GENE             CDS          SNP   \n",
       "3  EMB  embA       A109T      109      GENE             CDS          SNP   \n",
       "4  EMB  embA       A201T      201      GENE             CDS          SNP   \n",
       "\n",
       "  GENBANK_REFERENCE NEJM2018_PREDICTION NEJM2018_PHYLOSNP  \n",
       "0       NC_000962.3                   S             False  \n",
       "1       NC_000962.3                   S             False  \n",
       "2       NC_000962.3                   S             False  \n",
       "3       NC_000962.3                   S             False  \n",
       "4       NC_000962.3                   S             False  "
      ]
     },
     "execution_count": 6,
     "metadata": {},
     "output_type": "execute_result"
    }
   ],
   "source": [
    "nejm_catalogue[:5]"
   ]
  },
  {
   "cell_type": "code",
   "execution_count": 9,
   "metadata": {},
   "outputs": [],
   "source": [
    "nejm_catalogue[\"GENE_MUTATION\"]=nejm_catalogue[\"GENE\"]+\"_\"+nejm_catalogue[\"MUTATION\"]"
   ]
  },
  {
   "cell_type": "markdown",
   "metadata": {},
   "source": [
    "Let's check a well-known mutation that confers resistance to rifampicin"
   ]
  },
  {
   "cell_type": "code",
   "execution_count": 10,
   "metadata": {},
   "outputs": [
    {
     "data": {
      "text/html": [
       "<div>\n",
       "<style scoped>\n",
       "    .dataframe tbody tr th:only-of-type {\n",
       "        vertical-align: middle;\n",
       "    }\n",
       "\n",
       "    .dataframe tbody tr th {\n",
       "        vertical-align: top;\n",
       "    }\n",
       "\n",
       "    .dataframe thead th {\n",
       "        text-align: right;\n",
       "    }\n",
       "</style>\n",
       "<table border=\"1\" class=\"dataframe\">\n",
       "  <thead>\n",
       "    <tr style=\"text-align: right;\">\n",
       "      <th></th>\n",
       "      <th>DRUG</th>\n",
       "      <th>GENE</th>\n",
       "      <th>MUTATION</th>\n",
       "      <th>POSITION</th>\n",
       "      <th>GENE_TYPE</th>\n",
       "      <th>VARIANT_AFFECTS</th>\n",
       "      <th>VARIANT_TYPE</th>\n",
       "      <th>GENBANK_REFERENCE</th>\n",
       "      <th>NEJM2018_PREDICTION</th>\n",
       "      <th>NEJM2018_PHYLOSNP</th>\n",
       "      <th>GENE_MUTATION</th>\n",
       "    </tr>\n",
       "  </thead>\n",
       "  <tbody>\n",
       "    <tr>\n",
       "      <th>1042</th>\n",
       "      <td>RIF</td>\n",
       "      <td>rpoB</td>\n",
       "      <td>S450L</td>\n",
       "      <td>450</td>\n",
       "      <td>GENE</td>\n",
       "      <td>CDS</td>\n",
       "      <td>SNP</td>\n",
       "      <td>NC_000962.3</td>\n",
       "      <td>R</td>\n",
       "      <td>False</td>\n",
       "      <td>rpoB_S450L</td>\n",
       "    </tr>\n",
       "  </tbody>\n",
       "</table>\n",
       "</div>"
      ],
      "text/plain": [
       "     DRUG  GENE MUTATION POSITION GENE_TYPE VARIANT_AFFECTS VARIANT_TYPE  \\\n",
       "1042  RIF  rpoB    S450L      450      GENE             CDS          SNP   \n",
       "\n",
       "     GENBANK_REFERENCE NEJM2018_PREDICTION NEJM2018_PHYLOSNP GENE_MUTATION  \n",
       "1042       NC_000962.3                   R             False    rpoB_S450L  "
      ]
     },
     "execution_count": 10,
     "metadata": {},
     "output_type": "execute_result"
    }
   ],
   "source": [
    "nejm_catalogue.loc[nejm_catalogue.GENE_MUTATION==\"rpoB_S450L\"]"
   ]
  },
  {
   "cell_type": "markdown",
   "metadata": {},
   "source": [
    "These are the default rules that have been added for this gene"
   ]
  },
  {
   "cell_type": "code",
   "execution_count": 11,
   "metadata": {},
   "outputs": [
    {
     "data": {
      "text/html": [
       "<div>\n",
       "<style scoped>\n",
       "    .dataframe tbody tr th:only-of-type {\n",
       "        vertical-align: middle;\n",
       "    }\n",
       "\n",
       "    .dataframe tbody tr th {\n",
       "        vertical-align: top;\n",
       "    }\n",
       "\n",
       "    .dataframe thead th {\n",
       "        text-align: right;\n",
       "    }\n",
       "</style>\n",
       "<table border=\"1\" class=\"dataframe\">\n",
       "  <thead>\n",
       "    <tr style=\"text-align: right;\">\n",
       "      <th></th>\n",
       "      <th>DRUG</th>\n",
       "      <th>GENE</th>\n",
       "      <th>MUTATION</th>\n",
       "      <th>POSITION</th>\n",
       "      <th>GENE_TYPE</th>\n",
       "      <th>VARIANT_AFFECTS</th>\n",
       "      <th>VARIANT_TYPE</th>\n",
       "      <th>GENBANK_REFERENCE</th>\n",
       "      <th>NEJM2018_PREDICTION</th>\n",
       "      <th>NEJM2018_PHYLOSNP</th>\n",
       "      <th>GENE_MUTATION</th>\n",
       "    </tr>\n",
       "  </thead>\n",
       "  <tbody>\n",
       "    <tr>\n",
       "      <th>1076</th>\n",
       "      <td>RIF</td>\n",
       "      <td>rpoB</td>\n",
       "      <td>*=</td>\n",
       "      <td>*</td>\n",
       "      <td>GENE</td>\n",
       "      <td>CDS</td>\n",
       "      <td>SNP</td>\n",
       "      <td>NC_000962.3</td>\n",
       "      <td>S</td>\n",
       "      <td>NaN</td>\n",
       "      <td>rpoB_*=</td>\n",
       "    </tr>\n",
       "    <tr>\n",
       "      <th>1077</th>\n",
       "      <td>RIF</td>\n",
       "      <td>rpoB</td>\n",
       "      <td>*?</td>\n",
       "      <td>*</td>\n",
       "      <td>GENE</td>\n",
       "      <td>CDS</td>\n",
       "      <td>SNP</td>\n",
       "      <td>NC_000962.3</td>\n",
       "      <td>U</td>\n",
       "      <td>NaN</td>\n",
       "      <td>rpoB_*?</td>\n",
       "    </tr>\n",
       "    <tr>\n",
       "      <th>1078</th>\n",
       "      <td>RIF</td>\n",
       "      <td>rpoB</td>\n",
       "      <td>-*?</td>\n",
       "      <td>*</td>\n",
       "      <td>GENE</td>\n",
       "      <td>PROM</td>\n",
       "      <td>SNP</td>\n",
       "      <td>NC_000962.3</td>\n",
       "      <td>U</td>\n",
       "      <td>NaN</td>\n",
       "      <td>rpoB_-*?</td>\n",
       "    </tr>\n",
       "    <tr>\n",
       "      <th>1079</th>\n",
       "      <td>RIF</td>\n",
       "      <td>rpoB</td>\n",
       "      <td>*_indel</td>\n",
       "      <td>*</td>\n",
       "      <td>GENE</td>\n",
       "      <td>CDS</td>\n",
       "      <td>INDEL</td>\n",
       "      <td>NC_000962.3</td>\n",
       "      <td>U</td>\n",
       "      <td>NaN</td>\n",
       "      <td>rpoB_*_indel</td>\n",
       "    </tr>\n",
       "    <tr>\n",
       "      <th>1080</th>\n",
       "      <td>RIF</td>\n",
       "      <td>rpoB</td>\n",
       "      <td>-*_indel</td>\n",
       "      <td>*</td>\n",
       "      <td>GENE</td>\n",
       "      <td>PROM</td>\n",
       "      <td>INDEL</td>\n",
       "      <td>NC_000962.3</td>\n",
       "      <td>U</td>\n",
       "      <td>NaN</td>\n",
       "      <td>rpoB_-*_indel</td>\n",
       "    </tr>\n",
       "  </tbody>\n",
       "</table>\n",
       "</div>"
      ],
      "text/plain": [
       "     DRUG  GENE  MUTATION POSITION GENE_TYPE VARIANT_AFFECTS VARIANT_TYPE  \\\n",
       "1076  RIF  rpoB        *=        *      GENE             CDS          SNP   \n",
       "1077  RIF  rpoB        *?        *      GENE             CDS          SNP   \n",
       "1078  RIF  rpoB       -*?        *      GENE            PROM          SNP   \n",
       "1079  RIF  rpoB   *_indel        *      GENE             CDS        INDEL   \n",
       "1080  RIF  rpoB  -*_indel        *      GENE            PROM        INDEL   \n",
       "\n",
       "     GENBANK_REFERENCE NEJM2018_PREDICTION NEJM2018_PHYLOSNP  GENE_MUTATION  \n",
       "1076       NC_000962.3                   S               NaN        rpoB_*=  \n",
       "1077       NC_000962.3                   U               NaN        rpoB_*?  \n",
       "1078       NC_000962.3                   U               NaN       rpoB_-*?  \n",
       "1079       NC_000962.3                   U               NaN   rpoB_*_indel  \n",
       "1080       NC_000962.3                   U               NaN  rpoB_-*_indel  "
      ]
     },
     "execution_count": 11,
     "metadata": {},
     "output_type": "execute_result"
    }
   ],
   "source": [
    "nejm_catalogue.loc[(nejm_catalogue.GENE==\"rpoB\") & (nejm_catalogue.POSITION==\"*\")]"
   ]
  },
  {
   "cell_type": "markdown",
   "metadata": {},
   "source": [
    "`*=` means any synonymous mutation in the protein coding sequence (CDS). Here `*` is reserved for 'any position' and `!` for the Stop codon. `*?` is any non-synoymous mutation in the CDS and `*_indel` is any insertion or deletion at any position in the CDS. Finally, `-*?` and `-*_indel` mean any nonsynoymous mutation or insertion/deletion in the promoter, respectively"
   ]
  },
  {
   "cell_type": "markdown",
   "metadata": {},
   "source": [
    "## Instantiating a catalogue\n",
    "\n",
    "You need to specify the catalogue CSV, the matching GenBank file and the name of the catalogue (since a single CSV can have multiple columns associated with a prediction: there MUST be a column called \"LID2015B_PREDICTION\" otherwise the code will complain).\n",
    "\n"
   ]
  },
  {
   "cell_type": "code",
   "execution_count": 39,
   "metadata": {},
   "outputs": [],
   "source": [
    "cat=piezo.ResistanceCatalogue(input_file=\"config/NEJM2018-RSU-catalogue-H37rV_v3.csv\",\n",
    "                              genbank_file=\"config/H37rV_v3.gbk\",\n",
    "                              catalogue_name=\"NEJM2018\")"
   ]
  },
  {
   "cell_type": "markdown",
   "metadata": {},
   "source": [
    "## Predicting the effect of a mutation\n",
    "\n",
    "Now it is a simple as using the `predict()` method. This method takes two arguments, (1) `gene_mutation` which requires mutations in the form `gene_mutation` e.g. `rpoB_S450L` or `rpoB_1300_ins` and (2) `verbose` which if set to `True` the code will print out to STDOUT the rules that have been met for that mutation and their associated priorties. The prediction with the highest priority is then chosen."
   ]
  },
  {
   "cell_type": "code",
   "execution_count": 15,
   "metadata": {},
   "outputs": [
    {
     "data": {
      "text/plain": [
       "{'RIF': 'R'}"
      ]
     },
     "execution_count": 15,
     "metadata": {},
     "output_type": "execute_result"
    }
   ],
   "source": [
    "cat.predict(gene_mutation='rpoB_S450W')"
   ]
  },
  {
   "cell_type": "markdown",
   "metadata": {},
   "source": [
    "A dictionary is returned since a single genetic variant can affect multiple drugs."
   ]
  },
  {
   "cell_type": "markdown",
   "metadata": {},
   "source": [
    "These are the rows in the catalogue that will be considered for a mutation at `rpoB_S450` "
   ]
  },
  {
   "cell_type": "code",
   "execution_count": 17,
   "metadata": {},
   "outputs": [
    {
     "data": {
      "text/html": [
       "<div>\n",
       "<style scoped>\n",
       "    .dataframe tbody tr th:only-of-type {\n",
       "        vertical-align: middle;\n",
       "    }\n",
       "\n",
       "    .dataframe tbody tr th {\n",
       "        vertical-align: top;\n",
       "    }\n",
       "\n",
       "    .dataframe thead th {\n",
       "        text-align: right;\n",
       "    }\n",
       "</style>\n",
       "<table border=\"1\" class=\"dataframe\">\n",
       "  <thead>\n",
       "    <tr style=\"text-align: right;\">\n",
       "      <th></th>\n",
       "      <th>DRUG</th>\n",
       "      <th>GENE</th>\n",
       "      <th>MUTATION</th>\n",
       "      <th>POSITION</th>\n",
       "      <th>GENE_TYPE</th>\n",
       "      <th>VARIANT_AFFECTS</th>\n",
       "      <th>VARIANT_TYPE</th>\n",
       "      <th>GENBANK_REFERENCE</th>\n",
       "      <th>NEJM2018_PREDICTION</th>\n",
       "      <th>NEJM2018_PHYLOSNP</th>\n",
       "    </tr>\n",
       "  </thead>\n",
       "  <tbody>\n",
       "    <tr>\n",
       "      <th>1040</th>\n",
       "      <td>RIF</td>\n",
       "      <td>rpoB</td>\n",
       "      <td>S450?</td>\n",
       "      <td>450</td>\n",
       "      <td>GENE</td>\n",
       "      <td>CDS</td>\n",
       "      <td>SNP</td>\n",
       "      <td>NC_000962.3</td>\n",
       "      <td>R</td>\n",
       "      <td>False</td>\n",
       "    </tr>\n",
       "    <tr>\n",
       "      <th>1041</th>\n",
       "      <td>RIF</td>\n",
       "      <td>rpoB</td>\n",
       "      <td>S450F</td>\n",
       "      <td>450</td>\n",
       "      <td>GENE</td>\n",
       "      <td>CDS</td>\n",
       "      <td>SNP</td>\n",
       "      <td>NC_000962.3</td>\n",
       "      <td>R</td>\n",
       "      <td>False</td>\n",
       "    </tr>\n",
       "    <tr>\n",
       "      <th>1042</th>\n",
       "      <td>RIF</td>\n",
       "      <td>rpoB</td>\n",
       "      <td>S450L</td>\n",
       "      <td>450</td>\n",
       "      <td>GENE</td>\n",
       "      <td>CDS</td>\n",
       "      <td>SNP</td>\n",
       "      <td>NC_000962.3</td>\n",
       "      <td>R</td>\n",
       "      <td>False</td>\n",
       "    </tr>\n",
       "    <tr>\n",
       "      <th>1043</th>\n",
       "      <td>RIF</td>\n",
       "      <td>rpoB</td>\n",
       "      <td>S450Q</td>\n",
       "      <td>450</td>\n",
       "      <td>GENE</td>\n",
       "      <td>CDS</td>\n",
       "      <td>SNP</td>\n",
       "      <td>NC_000962.3</td>\n",
       "      <td>R</td>\n",
       "      <td>False</td>\n",
       "    </tr>\n",
       "    <tr>\n",
       "      <th>1044</th>\n",
       "      <td>RIF</td>\n",
       "      <td>rpoB</td>\n",
       "      <td>S450W</td>\n",
       "      <td>450</td>\n",
       "      <td>GENE</td>\n",
       "      <td>CDS</td>\n",
       "      <td>SNP</td>\n",
       "      <td>NC_000962.3</td>\n",
       "      <td>R</td>\n",
       "      <td>False</td>\n",
       "    </tr>\n",
       "    <tr>\n",
       "      <th>1045</th>\n",
       "      <td>RIF</td>\n",
       "      <td>rpoB</td>\n",
       "      <td>S450Y</td>\n",
       "      <td>450</td>\n",
       "      <td>GENE</td>\n",
       "      <td>CDS</td>\n",
       "      <td>SNP</td>\n",
       "      <td>NC_000962.3</td>\n",
       "      <td>R</td>\n",
       "      <td>False</td>\n",
       "    </tr>\n",
       "    <tr>\n",
       "      <th>1076</th>\n",
       "      <td>RIF</td>\n",
       "      <td>rpoB</td>\n",
       "      <td>*=</td>\n",
       "      <td>*</td>\n",
       "      <td>GENE</td>\n",
       "      <td>CDS</td>\n",
       "      <td>SNP</td>\n",
       "      <td>NC_000962.3</td>\n",
       "      <td>S</td>\n",
       "      <td>NaN</td>\n",
       "    </tr>\n",
       "    <tr>\n",
       "      <th>1077</th>\n",
       "      <td>RIF</td>\n",
       "      <td>rpoB</td>\n",
       "      <td>*?</td>\n",
       "      <td>*</td>\n",
       "      <td>GENE</td>\n",
       "      <td>CDS</td>\n",
       "      <td>SNP</td>\n",
       "      <td>NC_000962.3</td>\n",
       "      <td>U</td>\n",
       "      <td>NaN</td>\n",
       "    </tr>\n",
       "  </tbody>\n",
       "</table>\n",
       "</div>"
      ],
      "text/plain": [
       "     DRUG  GENE MUTATION POSITION GENE_TYPE VARIANT_AFFECTS VARIANT_TYPE  \\\n",
       "1040  RIF  rpoB    S450?      450      GENE             CDS          SNP   \n",
       "1041  RIF  rpoB    S450F      450      GENE             CDS          SNP   \n",
       "1042  RIF  rpoB    S450L      450      GENE             CDS          SNP   \n",
       "1043  RIF  rpoB    S450Q      450      GENE             CDS          SNP   \n",
       "1044  RIF  rpoB    S450W      450      GENE             CDS          SNP   \n",
       "1045  RIF  rpoB    S450Y      450      GENE             CDS          SNP   \n",
       "1076  RIF  rpoB       *=        *      GENE             CDS          SNP   \n",
       "1077  RIF  rpoB       *?        *      GENE             CDS          SNP   \n",
       "\n",
       "     GENBANK_REFERENCE NEJM2018_PREDICTION NEJM2018_PHYLOSNP  \n",
       "1040       NC_000962.3                   R             False  \n",
       "1041       NC_000962.3                   R             False  \n",
       "1042       NC_000962.3                   R             False  \n",
       "1043       NC_000962.3                   R             False  \n",
       "1044       NC_000962.3                   R             False  \n",
       "1045       NC_000962.3                   R             False  \n",
       "1076       NC_000962.3                   S               NaN  \n",
       "1077       NC_000962.3                   U               NaN  "
      ]
     },
     "execution_count": 17,
     "metadata": {},
     "output_type": "execute_result"
    }
   ],
   "source": [
    "cat.resistance_catalogue.loc[(cat.resistance_catalogue.GENE=='rpoB') & \n",
    "                             (cat.resistance_catalogue.POSITION.isin(['*','450'])) &\n",
    "                             (cat.resistance_catalogue.VARIANT_TYPE=='SNP') & \n",
    "                             (cat.resistance_catalogue.VARIANT_AFFECTS=='CDS')]"
   ]
  },
  {
   "cell_type": "markdown",
   "metadata": {},
   "source": [
    "So, let's repeat the prediction and see which rules are hit"
   ]
  },
  {
   "cell_type": "code",
   "execution_count": 18,
   "metadata": {},
   "outputs": [
    {
     "name": "stdout",
     "output_type": "stream",
     "text": [
      "RIF rpoB_S450L\n",
      "2. U nonsyn SNP at any position in the CDS or PROM\n",
      "3. R nonsyn SNP at specified position in the CDS\n",
      "4. R exact SNP match\n",
      "----------------------\n"
     ]
    },
    {
     "data": {
      "text/plain": [
       "{'RIF': 'R'}"
      ]
     },
     "execution_count": 18,
     "metadata": {},
     "output_type": "execute_result"
    }
   ],
   "source": [
    "cat.predict(gene_mutation='rpoB_S450L',verbose=True)"
   ]
  },
  {
   "cell_type": "markdown",
   "metadata": {},
   "source": [
    "As you can see the mutation first matches `rpoB_*?` (any non-synoymous mutation in the protein coding region of rpoB) and this has a priority of 2. It then matches an exact rule for `rpoB_S450L` which has a priority of 4. The predicted phenotype of the rule with the highest priority is returned, in this case `R` as expected."
   ]
  },
  {
   "cell_type": "markdown",
   "metadata": {},
   "source": [
    "This hierarchical approach will become increasingly important, for example, the `fabG1_L203L` synonymous mutation is (unusually) predicted to confer resistance to INH, however, simply adding a specific row to the catalogue will naturally ensure the specific rule overrides the default rule that any synoymous mutation is assumed to be susceptible."
   ]
  },
  {
   "cell_type": "markdown",
   "metadata": {},
   "source": [
    "## Validation\n",
    "\n",
    "The code uses a separate repository called [gemucator](https://github.com/philipwfowler/gemucator). You instantiate a copy of the class with the correct (i.e. same) GenBank file.\n",
    "\n",
    "This all happens \"under the hood\" in the piezo module, but it is useful to see the extent of validation that is performed on each mutation."
   ]
  },
  {
   "cell_type": "code",
   "execution_count": 19,
   "metadata": {},
   "outputs": [],
   "source": [
    "from gemucator import gemucator"
   ]
  },
  {
   "cell_type": "code",
   "execution_count": 20,
   "metadata": {},
   "outputs": [],
   "source": [
    "tb=gemucator(genbank_file=\"config/H37rV_v3.gbk\")"
   ]
  },
  {
   "cell_type": "markdown",
   "metadata": {},
   "source": [
    "The two methods most useful for validation are `valid_gene` and `valid_mutation`. "
   ]
  },
  {
   "cell_type": "code",
   "execution_count": 21,
   "metadata": {},
   "outputs": [
    {
     "data": {
      "text/plain": [
       "True"
      ]
     },
     "execution_count": 21,
     "metadata": {},
     "output_type": "execute_result"
    }
   ],
   "source": [
    "tb.valid_gene(\"rpoB\")"
   ]
  },
  {
   "cell_type": "markdown",
   "metadata": {},
   "source": [
    "Let's try a gene that doesn't exist"
   ]
  },
  {
   "cell_type": "code",
   "execution_count": 22,
   "metadata": {},
   "outputs": [
    {
     "data": {
      "text/plain": [
       "False"
      ]
     },
     "execution_count": 22,
     "metadata": {},
     "output_type": "execute_result"
    }
   ],
   "source": [
    "tb.valid_gene(\"rpoD\")"
   ]
  },
  {
   "cell_type": "code",
   "execution_count": 23,
   "metadata": {},
   "outputs": [
    {
     "data": {
      "text/plain": [
       "True"
      ]
     },
     "execution_count": 23,
     "metadata": {},
     "output_type": "execute_result"
    }
   ],
   "source": [
    "tb.valid_mutation(\"rpoB_S450L\")"
   ]
  },
  {
   "cell_type": "markdown",
   "metadata": {},
   "source": [
    "and a mutation that doesn't (this checks the REF amino acid against the GenBank file which isn't often done but should be correct, as otherwise there may be an inconsistency between the catalogue and the GenBank File)"
   ]
  },
  {
   "cell_type": "code",
   "execution_count": 24,
   "metadata": {},
   "outputs": [
    {
     "data": {
      "text/plain": [
       "False"
      ]
     },
     "execution_count": 24,
     "metadata": {},
     "output_type": "execute_result"
    }
   ],
   "source": [
    "tb.valid_mutation(\"rpoB_T450L\")"
   ]
  },
  {
   "cell_type": "markdown",
   "metadata": {},
   "source": [
    "It also insists that all amino acids are UPPERCASE and are drawn from the correct 20 amino acid alphabet and nucleotides are lowercase `[a,c,t,g]`"
   ]
  },
  {
   "cell_type": "code",
   "execution_count": 25,
   "metadata": {},
   "outputs": [
    {
     "ename": "AssertionError",
     "evalue": "J is not an amino acid!",
     "output_type": "error",
     "traceback": [
      "\u001b[0;31m---------------------------------------------------------------------------\u001b[0m",
      "\u001b[0;31mAssertionError\u001b[0m                            Traceback (most recent call last)",
      "\u001b[0;32m<ipython-input-25-7ad6a16341d7>\u001b[0m in \u001b[0;36m<module>\u001b[0;34m()\u001b[0m\n\u001b[0;32m----> 1\u001b[0;31m \u001b[0mtb\u001b[0m\u001b[0;34m.\u001b[0m\u001b[0mvalid_mutation\u001b[0m\u001b[0;34m(\u001b[0m\u001b[0;34m\"rpoB_J450L\"\u001b[0m\u001b[0;34m)\u001b[0m\u001b[0;34m\u001b[0m\u001b[0m\n\u001b[0m",
      "\u001b[0;32m~/packages/gemucator/gemucator/core.py\u001b[0m in \u001b[0;36mvalid_mutation\u001b[0;34m(self, mutation)\u001b[0m\n\u001b[1;32m     82\u001b[0m             \u001b[0mresult\u001b[0m\u001b[0;34m=\u001b[0m\u001b[0mself\u001b[0m\u001b[0;34m.\u001b[0m\u001b[0m_analyse_mutation\u001b[0m\u001b[0;34m(\u001b[0m\u001b[0mmutation\u001b[0m\u001b[0;34m,\u001b[0m\u001b[0mnucleotide_mutation\u001b[0m\u001b[0;34m=\u001b[0m\u001b[0;32mTrue\u001b[0m\u001b[0;34m)\u001b[0m\u001b[0;34m\u001b[0m\u001b[0m\n\u001b[1;32m     83\u001b[0m         \u001b[0;32melse\u001b[0m\u001b[0;34m:\u001b[0m\u001b[0;34m\u001b[0m\u001b[0m\n\u001b[0;32m---> 84\u001b[0;31m             \u001b[0mresult\u001b[0m\u001b[0;34m=\u001b[0m\u001b[0mself\u001b[0m\u001b[0;34m.\u001b[0m\u001b[0m_analyse_mutation\u001b[0m\u001b[0;34m(\u001b[0m\u001b[0mmutation\u001b[0m\u001b[0;34m,\u001b[0m\u001b[0mnucleotide_mutation\u001b[0m\u001b[0;34m=\u001b[0m\u001b[0;32mFalse\u001b[0m\u001b[0;34m)\u001b[0m\u001b[0;34m\u001b[0m\u001b[0m\n\u001b[0m\u001b[1;32m     85\u001b[0m \u001b[0;34m\u001b[0m\u001b[0m\n\u001b[1;32m     86\u001b[0m         \u001b[0;32mif\u001b[0m \u001b[0mresult\u001b[0m\u001b[0;34m[\u001b[0m\u001b[0;36m0\u001b[0m\u001b[0;34m]\u001b[0m\u001b[0;34m:\u001b[0m\u001b[0;34m\u001b[0m\u001b[0m\n",
      "\u001b[0;32m~/packages/gemucator/gemucator/core.py\u001b[0m in \u001b[0;36m_analyse_mutation\u001b[0;34m(self, mutation, nucleotide_mutation)\u001b[0m\n\u001b[1;32m    162\u001b[0m \u001b[0;34m\u001b[0m\u001b[0m\n\u001b[1;32m    163\u001b[0m                     \u001b[0;32mif\u001b[0m \u001b[0;32mnot\u001b[0m \u001b[0mwildcard\u001b[0m\u001b[0;34m:\u001b[0m\u001b[0;34m\u001b[0m\u001b[0m\n\u001b[0;32m--> 164\u001b[0;31m                         \u001b[0;32massert\u001b[0m \u001b[0mbefore\u001b[0m \u001b[0;32min\u001b[0m \u001b[0;34m[\u001b[0m\u001b[0;34m\"!\"\u001b[0m\u001b[0;34m,\u001b[0m\u001b[0;34m'A'\u001b[0m\u001b[0;34m,\u001b[0m\u001b[0;34m'C'\u001b[0m\u001b[0;34m,\u001b[0m\u001b[0;34m'D'\u001b[0m\u001b[0;34m,\u001b[0m\u001b[0;34m'E'\u001b[0m\u001b[0;34m,\u001b[0m\u001b[0;34m'F'\u001b[0m\u001b[0;34m,\u001b[0m\u001b[0;34m'G'\u001b[0m\u001b[0;34m,\u001b[0m\u001b[0;34m'H'\u001b[0m\u001b[0;34m,\u001b[0m\u001b[0;34m'I'\u001b[0m\u001b[0;34m,\u001b[0m\u001b[0;34m'K'\u001b[0m\u001b[0;34m,\u001b[0m\u001b[0;34m'L'\u001b[0m\u001b[0;34m,\u001b[0m\u001b[0;34m'M'\u001b[0m\u001b[0;34m,\u001b[0m\u001b[0;34m'N'\u001b[0m\u001b[0;34m,\u001b[0m\u001b[0;34m'P'\u001b[0m\u001b[0;34m,\u001b[0m\u001b[0;34m'Q'\u001b[0m\u001b[0;34m,\u001b[0m\u001b[0;34m'R'\u001b[0m\u001b[0;34m,\u001b[0m\u001b[0;34m'S'\u001b[0m\u001b[0;34m,\u001b[0m\u001b[0;34m'T'\u001b[0m\u001b[0;34m,\u001b[0m\u001b[0;34m'V'\u001b[0m\u001b[0;34m,\u001b[0m\u001b[0;34m'W'\u001b[0m\u001b[0;34m,\u001b[0m\u001b[0;34m'X'\u001b[0m\u001b[0;34m,\u001b[0m\u001b[0;34m'Y'\u001b[0m\u001b[0;34m,\u001b[0m\u001b[0;34m'Z'\u001b[0m\u001b[0;34m]\u001b[0m\u001b[0;34m,\u001b[0m \u001b[0mbefore\u001b[0m\u001b[0;34m+\u001b[0m\u001b[0;34m\" is not an amino acid!\"\u001b[0m\u001b[0;34m\u001b[0m\u001b[0m\n\u001b[0m\u001b[1;32m    165\u001b[0m \u001b[0;34m\u001b[0m\u001b[0m\n\u001b[1;32m    166\u001b[0m                     \u001b[0;32massert\u001b[0m \u001b[0mafter\u001b[0m \u001b[0;32min\u001b[0m \u001b[0;34m[\u001b[0m\u001b[0;34m'='\u001b[0m\u001b[0;34m,\u001b[0m\u001b[0;34m'?'\u001b[0m\u001b[0;34m,\u001b[0m\u001b[0;34m\"!\"\u001b[0m\u001b[0;34m,\u001b[0m\u001b[0;34m'A'\u001b[0m\u001b[0;34m,\u001b[0m\u001b[0;34m'C'\u001b[0m\u001b[0;34m,\u001b[0m\u001b[0;34m'D'\u001b[0m\u001b[0;34m,\u001b[0m\u001b[0;34m'E'\u001b[0m\u001b[0;34m,\u001b[0m\u001b[0;34m'F'\u001b[0m\u001b[0;34m,\u001b[0m\u001b[0;34m'G'\u001b[0m\u001b[0;34m,\u001b[0m\u001b[0;34m'H'\u001b[0m\u001b[0;34m,\u001b[0m\u001b[0;34m'I'\u001b[0m\u001b[0;34m,\u001b[0m\u001b[0;34m'K'\u001b[0m\u001b[0;34m,\u001b[0m\u001b[0;34m'L'\u001b[0m\u001b[0;34m,\u001b[0m\u001b[0;34m'M'\u001b[0m\u001b[0;34m,\u001b[0m\u001b[0;34m'N'\u001b[0m\u001b[0;34m,\u001b[0m\u001b[0;34m'P'\u001b[0m\u001b[0;34m,\u001b[0m\u001b[0;34m'Q'\u001b[0m\u001b[0;34m,\u001b[0m\u001b[0;34m'R'\u001b[0m\u001b[0;34m,\u001b[0m\u001b[0;34m'S'\u001b[0m\u001b[0;34m,\u001b[0m\u001b[0;34m'T'\u001b[0m\u001b[0;34m,\u001b[0m\u001b[0;34m'V'\u001b[0m\u001b[0;34m,\u001b[0m\u001b[0;34m'W'\u001b[0m\u001b[0;34m,\u001b[0m\u001b[0;34m'X'\u001b[0m\u001b[0;34m,\u001b[0m\u001b[0;34m'Y'\u001b[0m\u001b[0;34m,\u001b[0m\u001b[0;34m'Z'\u001b[0m\u001b[0;34m]\u001b[0m\u001b[0;34m,\u001b[0m \u001b[0mafter\u001b[0m\u001b[0;34m+\u001b[0m\u001b[0;34m\" is not an amino acid!\"\u001b[0m\u001b[0;34m\u001b[0m\u001b[0m\n",
      "\u001b[0;31mAssertionError\u001b[0m: J is not an amino acid!"
     ]
    }
   ],
   "source": [
    "tb.valid_mutation(\"rpoB_J450L\")"
   ]
  },
  {
   "cell_type": "code",
   "execution_count": 26,
   "metadata": {},
   "outputs": [
    {
     "data": {
      "text/plain": [
       "True"
      ]
     },
     "execution_count": 26,
     "metadata": {},
     "output_type": "execute_result"
    }
   ],
   "source": [
    "tb.valid_mutation(\"rpoB_c-15t\")"
   ]
  },
  {
   "cell_type": "code",
   "execution_count": 27,
   "metadata": {},
   "outputs": [
    {
     "ename": "AssertionError",
     "evalue": "d is not a nucleotide!",
     "output_type": "error",
     "traceback": [
      "\u001b[0;31m---------------------------------------------------------------------------\u001b[0m",
      "\u001b[0;31mAssertionError\u001b[0m                            Traceback (most recent call last)",
      "\u001b[0;32m<ipython-input-27-c96aba9e40e5>\u001b[0m in \u001b[0;36m<module>\u001b[0;34m()\u001b[0m\n\u001b[0;32m----> 1\u001b[0;31m \u001b[0mtb\u001b[0m\u001b[0;34m.\u001b[0m\u001b[0mvalid_mutation\u001b[0m\u001b[0;34m(\u001b[0m\u001b[0;34m\"rpoB_d-15t\"\u001b[0m\u001b[0;34m)\u001b[0m\u001b[0;34m\u001b[0m\u001b[0m\n\u001b[0m",
      "\u001b[0;32m~/packages/gemucator/gemucator/core.py\u001b[0m in \u001b[0;36mvalid_mutation\u001b[0;34m(self, mutation)\u001b[0m\n\u001b[1;32m     82\u001b[0m             \u001b[0mresult\u001b[0m\u001b[0;34m=\u001b[0m\u001b[0mself\u001b[0m\u001b[0;34m.\u001b[0m\u001b[0m_analyse_mutation\u001b[0m\u001b[0;34m(\u001b[0m\u001b[0mmutation\u001b[0m\u001b[0;34m,\u001b[0m\u001b[0mnucleotide_mutation\u001b[0m\u001b[0;34m=\u001b[0m\u001b[0;32mTrue\u001b[0m\u001b[0;34m)\u001b[0m\u001b[0;34m\u001b[0m\u001b[0m\n\u001b[1;32m     83\u001b[0m         \u001b[0;32melse\u001b[0m\u001b[0;34m:\u001b[0m\u001b[0;34m\u001b[0m\u001b[0m\n\u001b[0;32m---> 84\u001b[0;31m             \u001b[0mresult\u001b[0m\u001b[0;34m=\u001b[0m\u001b[0mself\u001b[0m\u001b[0;34m.\u001b[0m\u001b[0m_analyse_mutation\u001b[0m\u001b[0;34m(\u001b[0m\u001b[0mmutation\u001b[0m\u001b[0;34m,\u001b[0m\u001b[0mnucleotide_mutation\u001b[0m\u001b[0;34m=\u001b[0m\u001b[0;32mFalse\u001b[0m\u001b[0;34m)\u001b[0m\u001b[0;34m\u001b[0m\u001b[0m\n\u001b[0m\u001b[1;32m     85\u001b[0m \u001b[0;34m\u001b[0m\u001b[0m\n\u001b[1;32m     86\u001b[0m         \u001b[0;32mif\u001b[0m \u001b[0mresult\u001b[0m\u001b[0;34m[\u001b[0m\u001b[0;36m0\u001b[0m\u001b[0;34m]\u001b[0m\u001b[0;34m:\u001b[0m\u001b[0;34m\u001b[0m\u001b[0m\n",
      "\u001b[0;32m~/packages/gemucator/gemucator/core.py\u001b[0m in \u001b[0;36m_analyse_mutation\u001b[0;34m(self, mutation, nucleotide_mutation)\u001b[0m\n\u001b[1;32m    143\u001b[0m \u001b[0;34m\u001b[0m\u001b[0m\n\u001b[1;32m    144\u001b[0m                 \u001b[0;32mif\u001b[0m \u001b[0;32mnot\u001b[0m \u001b[0mwildcard\u001b[0m\u001b[0;34m:\u001b[0m\u001b[0;34m\u001b[0m\u001b[0m\n\u001b[0;32m--> 145\u001b[0;31m                     \u001b[0;32massert\u001b[0m \u001b[0mbefore\u001b[0m \u001b[0;32min\u001b[0m \u001b[0;34m[\u001b[0m\u001b[0;34m'c'\u001b[0m\u001b[0;34m,\u001b[0m\u001b[0;34m't'\u001b[0m\u001b[0;34m,\u001b[0m\u001b[0;34m'g'\u001b[0m\u001b[0;34m,\u001b[0m\u001b[0;34m'a'\u001b[0m\u001b[0;34m]\u001b[0m\u001b[0;34m,\u001b[0m \u001b[0mbefore\u001b[0m\u001b[0;34m+\u001b[0m\u001b[0;34m\" is not a nucleotide!\"\u001b[0m\u001b[0;34m\u001b[0m\u001b[0m\n\u001b[0m\u001b[1;32m    146\u001b[0m \u001b[0;34m\u001b[0m\u001b[0m\n\u001b[1;32m    147\u001b[0m                 \u001b[0;32massert\u001b[0m \u001b[0mafter\u001b[0m \u001b[0;32min\u001b[0m \u001b[0;34m[\u001b[0m\u001b[0;34m'c'\u001b[0m\u001b[0;34m,\u001b[0m\u001b[0;34m't'\u001b[0m\u001b[0;34m,\u001b[0m\u001b[0;34m'g'\u001b[0m\u001b[0;34m,\u001b[0m\u001b[0;34m'a'\u001b[0m\u001b[0;34m,\u001b[0m\u001b[0;34m'?'\u001b[0m\u001b[0;34m,\u001b[0m\u001b[0;34m'z'\u001b[0m\u001b[0;34m]\u001b[0m\u001b[0;34m,\u001b[0m \u001b[0mafter\u001b[0m\u001b[0;34m+\u001b[0m\u001b[0;34m\" is not a nucleotide!\"\u001b[0m\u001b[0;34m\u001b[0m\u001b[0m\n",
      "\u001b[0;31mAssertionError\u001b[0m: d is not a nucleotide!"
     ]
    }
   ],
   "source": [
    "tb.valid_mutation(\"rpoB_d-15t\")"
   ]
  },
  {
   "cell_type": "markdown",
   "metadata": {},
   "source": [
    "Now let's see it in action inside `piezo`"
   ]
  },
  {
   "cell_type": "code",
   "execution_count": 28,
   "metadata": {},
   "outputs": [
    {
     "ename": "AssertionError",
     "evalue": "J is not an amino acid!",
     "output_type": "error",
     "traceback": [
      "\u001b[0;31m---------------------------------------------------------------------------\u001b[0m",
      "\u001b[0;31mAssertionError\u001b[0m                            Traceback (most recent call last)",
      "\u001b[0;32m<ipython-input-28-6a9bfb815dc3>\u001b[0m in \u001b[0;36m<module>\u001b[0;34m()\u001b[0m\n\u001b[0;32m----> 1\u001b[0;31m \u001b[0mcat\u001b[0m\u001b[0;34m.\u001b[0m\u001b[0mpredict\u001b[0m\u001b[0;34m(\u001b[0m\u001b[0mgene_mutation\u001b[0m\u001b[0;34m=\u001b[0m\u001b[0;34m'rpoB_J450L'\u001b[0m\u001b[0;34m)\u001b[0m\u001b[0;34m\u001b[0m\u001b[0m\n\u001b[0m",
      "\u001b[0;32m~/packages/piezo/piezo/catalogue.py\u001b[0m in \u001b[0;36mpredict\u001b[0;34m(self, gene_mutation, verbose, validate)\u001b[0m\n\u001b[1;32m    156\u001b[0m \u001b[0;34m\u001b[0m\u001b[0m\n\u001b[1;32m    157\u001b[0m             \u001b[0;31m# also check that the supplied mutation is valid given the reference genome\u001b[0m\u001b[0;34m\u001b[0m\u001b[0;34m\u001b[0m\u001b[0m\n\u001b[0;32m--> 158\u001b[0;31m             \u001b[0;32massert\u001b[0m \u001b[0mself\u001b[0m\u001b[0;34m.\u001b[0m\u001b[0mreference_genome\u001b[0m\u001b[0;34m.\u001b[0m\u001b[0mvalid_mutation\u001b[0m\u001b[0;34m(\u001b[0m\u001b[0mgene_mutation\u001b[0m\u001b[0;34m)\u001b[0m\u001b[0;34m,\u001b[0m \u001b[0;34m\"gene exists but \"\u001b[0m\u001b[0;34m+\u001b[0m\u001b[0mgene_mutation\u001b[0m\u001b[0;34m+\u001b[0m\u001b[0;34m\" is badly formed; check the reference amino acid or nucleotide!\"\u001b[0m\u001b[0;34m\u001b[0m\u001b[0m\n\u001b[0m\u001b[1;32m    159\u001b[0m \u001b[0;34m\u001b[0m\u001b[0m\n\u001b[1;32m    160\u001b[0m         \u001b[0;31m# parse the mutation to work out what type of mutation it is, where it acts etc\u001b[0m\u001b[0;34m\u001b[0m\u001b[0;34m\u001b[0m\u001b[0m\n",
      "\u001b[0;32m~/packages/gemucator/gemucator/core.py\u001b[0m in \u001b[0;36mvalid_mutation\u001b[0;34m(self, mutation)\u001b[0m\n\u001b[1;32m     82\u001b[0m             \u001b[0mresult\u001b[0m\u001b[0;34m=\u001b[0m\u001b[0mself\u001b[0m\u001b[0;34m.\u001b[0m\u001b[0m_analyse_mutation\u001b[0m\u001b[0;34m(\u001b[0m\u001b[0mmutation\u001b[0m\u001b[0;34m,\u001b[0m\u001b[0mnucleotide_mutation\u001b[0m\u001b[0;34m=\u001b[0m\u001b[0;32mTrue\u001b[0m\u001b[0;34m)\u001b[0m\u001b[0;34m\u001b[0m\u001b[0m\n\u001b[1;32m     83\u001b[0m         \u001b[0;32melse\u001b[0m\u001b[0;34m:\u001b[0m\u001b[0;34m\u001b[0m\u001b[0m\n\u001b[0;32m---> 84\u001b[0;31m             \u001b[0mresult\u001b[0m\u001b[0;34m=\u001b[0m\u001b[0mself\u001b[0m\u001b[0;34m.\u001b[0m\u001b[0m_analyse_mutation\u001b[0m\u001b[0;34m(\u001b[0m\u001b[0mmutation\u001b[0m\u001b[0;34m,\u001b[0m\u001b[0mnucleotide_mutation\u001b[0m\u001b[0;34m=\u001b[0m\u001b[0;32mFalse\u001b[0m\u001b[0;34m)\u001b[0m\u001b[0;34m\u001b[0m\u001b[0m\n\u001b[0m\u001b[1;32m     85\u001b[0m \u001b[0;34m\u001b[0m\u001b[0m\n\u001b[1;32m     86\u001b[0m         \u001b[0;32mif\u001b[0m \u001b[0mresult\u001b[0m\u001b[0;34m[\u001b[0m\u001b[0;36m0\u001b[0m\u001b[0;34m]\u001b[0m\u001b[0;34m:\u001b[0m\u001b[0;34m\u001b[0m\u001b[0m\n",
      "\u001b[0;32m~/packages/gemucator/gemucator/core.py\u001b[0m in \u001b[0;36m_analyse_mutation\u001b[0;34m(self, mutation, nucleotide_mutation)\u001b[0m\n\u001b[1;32m    162\u001b[0m \u001b[0;34m\u001b[0m\u001b[0m\n\u001b[1;32m    163\u001b[0m                     \u001b[0;32mif\u001b[0m \u001b[0;32mnot\u001b[0m \u001b[0mwildcard\u001b[0m\u001b[0;34m:\u001b[0m\u001b[0;34m\u001b[0m\u001b[0m\n\u001b[0;32m--> 164\u001b[0;31m                         \u001b[0;32massert\u001b[0m \u001b[0mbefore\u001b[0m \u001b[0;32min\u001b[0m \u001b[0;34m[\u001b[0m\u001b[0;34m\"!\"\u001b[0m\u001b[0;34m,\u001b[0m\u001b[0;34m'A'\u001b[0m\u001b[0;34m,\u001b[0m\u001b[0;34m'C'\u001b[0m\u001b[0;34m,\u001b[0m\u001b[0;34m'D'\u001b[0m\u001b[0;34m,\u001b[0m\u001b[0;34m'E'\u001b[0m\u001b[0;34m,\u001b[0m\u001b[0;34m'F'\u001b[0m\u001b[0;34m,\u001b[0m\u001b[0;34m'G'\u001b[0m\u001b[0;34m,\u001b[0m\u001b[0;34m'H'\u001b[0m\u001b[0;34m,\u001b[0m\u001b[0;34m'I'\u001b[0m\u001b[0;34m,\u001b[0m\u001b[0;34m'K'\u001b[0m\u001b[0;34m,\u001b[0m\u001b[0;34m'L'\u001b[0m\u001b[0;34m,\u001b[0m\u001b[0;34m'M'\u001b[0m\u001b[0;34m,\u001b[0m\u001b[0;34m'N'\u001b[0m\u001b[0;34m,\u001b[0m\u001b[0;34m'P'\u001b[0m\u001b[0;34m,\u001b[0m\u001b[0;34m'Q'\u001b[0m\u001b[0;34m,\u001b[0m\u001b[0;34m'R'\u001b[0m\u001b[0;34m,\u001b[0m\u001b[0;34m'S'\u001b[0m\u001b[0;34m,\u001b[0m\u001b[0;34m'T'\u001b[0m\u001b[0;34m,\u001b[0m\u001b[0;34m'V'\u001b[0m\u001b[0;34m,\u001b[0m\u001b[0;34m'W'\u001b[0m\u001b[0;34m,\u001b[0m\u001b[0;34m'X'\u001b[0m\u001b[0;34m,\u001b[0m\u001b[0;34m'Y'\u001b[0m\u001b[0;34m,\u001b[0m\u001b[0;34m'Z'\u001b[0m\u001b[0;34m]\u001b[0m\u001b[0;34m,\u001b[0m \u001b[0mbefore\u001b[0m\u001b[0;34m+\u001b[0m\u001b[0;34m\" is not an amino acid!\"\u001b[0m\u001b[0;34m\u001b[0m\u001b[0m\n\u001b[0m\u001b[1;32m    165\u001b[0m \u001b[0;34m\u001b[0m\u001b[0m\n\u001b[1;32m    166\u001b[0m                     \u001b[0;32massert\u001b[0m \u001b[0mafter\u001b[0m \u001b[0;32min\u001b[0m \u001b[0;34m[\u001b[0m\u001b[0;34m'='\u001b[0m\u001b[0;34m,\u001b[0m\u001b[0;34m'?'\u001b[0m\u001b[0;34m,\u001b[0m\u001b[0;34m\"!\"\u001b[0m\u001b[0;34m,\u001b[0m\u001b[0;34m'A'\u001b[0m\u001b[0;34m,\u001b[0m\u001b[0;34m'C'\u001b[0m\u001b[0;34m,\u001b[0m\u001b[0;34m'D'\u001b[0m\u001b[0;34m,\u001b[0m\u001b[0;34m'E'\u001b[0m\u001b[0;34m,\u001b[0m\u001b[0;34m'F'\u001b[0m\u001b[0;34m,\u001b[0m\u001b[0;34m'G'\u001b[0m\u001b[0;34m,\u001b[0m\u001b[0;34m'H'\u001b[0m\u001b[0;34m,\u001b[0m\u001b[0;34m'I'\u001b[0m\u001b[0;34m,\u001b[0m\u001b[0;34m'K'\u001b[0m\u001b[0;34m,\u001b[0m\u001b[0;34m'L'\u001b[0m\u001b[0;34m,\u001b[0m\u001b[0;34m'M'\u001b[0m\u001b[0;34m,\u001b[0m\u001b[0;34m'N'\u001b[0m\u001b[0;34m,\u001b[0m\u001b[0;34m'P'\u001b[0m\u001b[0;34m,\u001b[0m\u001b[0;34m'Q'\u001b[0m\u001b[0;34m,\u001b[0m\u001b[0;34m'R'\u001b[0m\u001b[0;34m,\u001b[0m\u001b[0;34m'S'\u001b[0m\u001b[0;34m,\u001b[0m\u001b[0;34m'T'\u001b[0m\u001b[0;34m,\u001b[0m\u001b[0;34m'V'\u001b[0m\u001b[0;34m,\u001b[0m\u001b[0;34m'W'\u001b[0m\u001b[0;34m,\u001b[0m\u001b[0;34m'X'\u001b[0m\u001b[0;34m,\u001b[0m\u001b[0;34m'Y'\u001b[0m\u001b[0;34m,\u001b[0m\u001b[0;34m'Z'\u001b[0m\u001b[0;34m]\u001b[0m\u001b[0;34m,\u001b[0m \u001b[0mafter\u001b[0m\u001b[0;34m+\u001b[0m\u001b[0;34m\" is not an amino acid!\"\u001b[0m\u001b[0;34m\u001b[0m\u001b[0m\n",
      "\u001b[0;31mAssertionError\u001b[0m: J is not an amino acid!"
     ]
    }
   ],
   "source": [
    "cat.predict(gene_mutation='rpoB_J450L')"
   ]
  },
  {
   "cell_type": "code",
   "execution_count": 29,
   "metadata": {},
   "outputs": [
    {
     "ename": "AssertionError",
     "evalue": "gene exists but rpoB_D450L is badly formed; check the reference amino acid or nucleotide!",
     "output_type": "error",
     "traceback": [
      "\u001b[0;31m---------------------------------------------------------------------------\u001b[0m",
      "\u001b[0;31mAssertionError\u001b[0m                            Traceback (most recent call last)",
      "\u001b[0;32m<ipython-input-29-c7ca3769d60a>\u001b[0m in \u001b[0;36m<module>\u001b[0;34m()\u001b[0m\n\u001b[0;32m----> 1\u001b[0;31m \u001b[0mcat\u001b[0m\u001b[0;34m.\u001b[0m\u001b[0mpredict\u001b[0m\u001b[0;34m(\u001b[0m\u001b[0mgene_mutation\u001b[0m\u001b[0;34m=\u001b[0m\u001b[0;34m'rpoB_D450L'\u001b[0m\u001b[0;34m)\u001b[0m\u001b[0;34m\u001b[0m\u001b[0m\n\u001b[0m",
      "\u001b[0;32m~/packages/piezo/piezo/catalogue.py\u001b[0m in \u001b[0;36mpredict\u001b[0;34m(self, gene_mutation, verbose, validate)\u001b[0m\n\u001b[1;32m    156\u001b[0m \u001b[0;34m\u001b[0m\u001b[0m\n\u001b[1;32m    157\u001b[0m             \u001b[0;31m# also check that the supplied mutation is valid given the reference genome\u001b[0m\u001b[0;34m\u001b[0m\u001b[0;34m\u001b[0m\u001b[0m\n\u001b[0;32m--> 158\u001b[0;31m             \u001b[0;32massert\u001b[0m \u001b[0mself\u001b[0m\u001b[0;34m.\u001b[0m\u001b[0mreference_genome\u001b[0m\u001b[0;34m.\u001b[0m\u001b[0mvalid_mutation\u001b[0m\u001b[0;34m(\u001b[0m\u001b[0mgene_mutation\u001b[0m\u001b[0;34m)\u001b[0m\u001b[0;34m,\u001b[0m \u001b[0;34m\"gene exists but \"\u001b[0m\u001b[0;34m+\u001b[0m\u001b[0mgene_mutation\u001b[0m\u001b[0;34m+\u001b[0m\u001b[0;34m\" is badly formed; check the reference amino acid or nucleotide!\"\u001b[0m\u001b[0;34m\u001b[0m\u001b[0m\n\u001b[0m\u001b[1;32m    159\u001b[0m \u001b[0;34m\u001b[0m\u001b[0m\n\u001b[1;32m    160\u001b[0m         \u001b[0;31m# parse the mutation to work out what type of mutation it is, where it acts etc\u001b[0m\u001b[0;34m\u001b[0m\u001b[0;34m\u001b[0m\u001b[0m\n",
      "\u001b[0;31mAssertionError\u001b[0m: gene exists but rpoB_D450L is badly formed; check the reference amino acid or nucleotide!"
     ]
    }
   ],
   "source": [
    "cat.predict(gene_mutation='rpoB_D450L')"
   ]
  },
  {
   "cell_type": "code",
   "execution_count": 30,
   "metadata": {},
   "outputs": [
    {
     "ename": "AssertionError",
     "evalue": "rpoD does not exist in the specified GENBANK file!",
     "output_type": "error",
     "traceback": [
      "\u001b[0;31m---------------------------------------------------------------------------\u001b[0m",
      "\u001b[0;31mAssertionError\u001b[0m                            Traceback (most recent call last)",
      "\u001b[0;32m<ipython-input-30-d6f76174885e>\u001b[0m in \u001b[0;36m<module>\u001b[0;34m()\u001b[0m\n\u001b[0;32m----> 1\u001b[0;31m \u001b[0mcat\u001b[0m\u001b[0;34m.\u001b[0m\u001b[0mpredict\u001b[0m\u001b[0;34m(\u001b[0m\u001b[0mgene_mutation\u001b[0m\u001b[0;34m=\u001b[0m\u001b[0;34m'rpoD_S450L'\u001b[0m\u001b[0;34m)\u001b[0m\u001b[0;34m\u001b[0m\u001b[0m\n\u001b[0m",
      "\u001b[0;32m~/packages/piezo/piezo/catalogue.py\u001b[0m in \u001b[0;36mpredict\u001b[0;34m(self, gene_mutation, verbose, validate)\u001b[0m\n\u001b[1;32m    153\u001b[0m         \u001b[0;32mif\u001b[0m \u001b[0mvalidate\u001b[0m\u001b[0;34m:\u001b[0m\u001b[0;34m\u001b[0m\u001b[0m\n\u001b[1;32m    154\u001b[0m             \u001b[0;31m# check that the gene exists in the reference genome!\u001b[0m\u001b[0;34m\u001b[0m\u001b[0;34m\u001b[0m\u001b[0m\n\u001b[0;32m--> 155\u001b[0;31m             \u001b[0;32massert\u001b[0m \u001b[0mself\u001b[0m\u001b[0;34m.\u001b[0m\u001b[0mreference_genome\u001b[0m\u001b[0;34m.\u001b[0m\u001b[0mvalid_gene\u001b[0m\u001b[0;34m(\u001b[0m\u001b[0mgene_name\u001b[0m\u001b[0;34m)\u001b[0m\u001b[0;34m,\u001b[0m \u001b[0mgene_name\u001b[0m\u001b[0;34m+\u001b[0m\u001b[0;34m\" does not exist in the specified GENBANK file!\"\u001b[0m\u001b[0;34m\u001b[0m\u001b[0m\n\u001b[0m\u001b[1;32m    156\u001b[0m \u001b[0;34m\u001b[0m\u001b[0m\n\u001b[1;32m    157\u001b[0m             \u001b[0;31m# also check that the supplied mutation is valid given the reference genome\u001b[0m\u001b[0;34m\u001b[0m\u001b[0;34m\u001b[0m\u001b[0m\n",
      "\u001b[0;31mAssertionError\u001b[0m: rpoD does not exist in the specified GENBANK file!"
     ]
    }
   ],
   "source": [
    "cat.predict(gene_mutation='rpoD_S450L')"
   ]
  },
  {
   "cell_type": "markdown",
   "metadata": {},
   "source": [
    "It should be able to parse all the styles of mutations that are defined by GOARC, e.g."
   ]
  },
  {
   "cell_type": "code",
   "execution_count": 31,
   "metadata": {},
   "outputs": [
    {
     "data": {
      "text/plain": [
       "{'RIF': 'R'}"
      ]
     },
     "execution_count": 31,
     "metadata": {},
     "output_type": "execute_result"
    }
   ],
   "source": [
    "cat.predict(gene_mutation='rpoB_S450?')"
   ]
  },
  {
   "cell_type": "markdown",
   "metadata": {},
   "source": [
    "In GOARC, INDELs are put into a hierachy, but it parses them all"
   ]
  },
  {
   "cell_type": "code",
   "execution_count": 32,
   "metadata": {},
   "outputs": [
    {
     "data": {
      "text/plain": [
       "{'INH': 'U'}"
      ]
     },
     "execution_count": 32,
     "metadata": {},
     "output_type": "execute_result"
    }
   ],
   "source": [
    "cat.predict(gene_mutation='katG_100_indel')"
   ]
  },
  {
   "cell_type": "code",
   "execution_count": 33,
   "metadata": {},
   "outputs": [
    {
     "data": {
      "text/plain": [
       "{'INH': 'U'}"
      ]
     },
     "execution_count": 33,
     "metadata": {},
     "output_type": "execute_result"
    }
   ],
   "source": [
    "cat.predict(gene_mutation='katG_100_ins')"
   ]
  },
  {
   "cell_type": "markdown",
   "metadata": {},
   "source": [
    "Importantly for this catalogue, it understands frame shifts!"
   ]
  },
  {
   "cell_type": "code",
   "execution_count": 44,
   "metadata": {},
   "outputs": [
    {
     "name": "stdout",
     "output_type": "stream",
     "text": [
      "PZA pncA_2_ins_3\n",
      "1. U any insertion or deletion in the CDS or PROM\n",
      "4. R any frameshifting insertion or deletion in the CDS\n",
      "----------------------\n"
     ]
    },
    {
     "data": {
      "text/plain": [
       "{'PZA': 'R'}"
      ]
     },
     "execution_count": 44,
     "metadata": {},
     "output_type": "execute_result"
    }
   ],
   "source": [
    "cat.predict(gene_mutation='pncA_2_ins_3',verbose=True)"
   ]
  },
  {
   "cell_type": "code",
   "execution_count": 45,
   "metadata": {},
   "outputs": [
    {
     "name": "stdout",
     "output_type": "stream",
     "text": [
      "PZA pncA_2_ins_4\n",
      "1. U any insertion or deletion in the CDS or PROM\n",
      "----------------------\n"
     ]
    },
    {
     "data": {
      "text/plain": [
       "{'PZA': 'U'}"
      ]
     },
     "execution_count": 45,
     "metadata": {},
     "output_type": "execute_result"
    }
   ],
   "source": [
    "cat.predict(gene_mutation='pncA_2_ins_4',verbose=True)"
   ]
  },
  {
   "cell_type": "code",
   "execution_count": 46,
   "metadata": {},
   "outputs": [
    {
     "name": "stdout",
     "output_type": "stream",
     "text": [
      "PZA pncA_2_ins_12\n",
      "1. U any insertion or deletion in the CDS or PROM\n",
      "4. R any frameshifting insertion or deletion in the CDS\n",
      "----------------------\n"
     ]
    },
    {
     "data": {
      "text/plain": [
       "{'PZA': 'R'}"
      ]
     },
     "execution_count": 46,
     "metadata": {},
     "output_type": "execute_result"
    }
   ],
   "source": [
    "cat.predict(gene_mutation='pncA_2_ins_12',verbose=True)"
   ]
  },
  {
   "cell_type": "code",
   "execution_count": 34,
   "metadata": {},
   "outputs": [
    {
     "data": {
      "text/plain": [
       "{'INH': 'U'}"
      ]
     },
     "execution_count": 34,
     "metadata": {},
     "output_type": "execute_result"
    }
   ],
   "source": [
    "cat.predict(gene_mutation='katG_100_del')"
   ]
  },
  {
   "cell_type": "code",
   "execution_count": 35,
   "metadata": {},
   "outputs": [
    {
     "data": {
      "text/plain": [
       "{'INH': 'U'}"
      ]
     },
     "execution_count": 35,
     "metadata": {},
     "output_type": "execute_result"
    }
   ],
   "source": [
    "cat.predict(gene_mutation='katG_100_ins_4')"
   ]
  },
  {
   "cell_type": "code",
   "execution_count": 36,
   "metadata": {},
   "outputs": [
    {
     "data": {
      "text/plain": [
       "{'INH': 'U'}"
      ]
     },
     "execution_count": 36,
     "metadata": {},
     "output_type": "execute_result"
    }
   ],
   "source": [
    "cat.predict(gene_mutation='katG_100_ins_actg')"
   ]
  },
  {
   "cell_type": "code",
   "execution_count": null,
   "metadata": {},
   "outputs": [],
   "source": []
  }
 ],
 "metadata": {
  "kernelspec": {
   "display_name": "Python 3",
   "language": "python",
   "name": "python3"
  },
  "language_info": {
   "codemirror_mode": {
    "name": "ipython",
    "version": 3
   },
   "file_extension": ".py",
   "mimetype": "text/x-python",
   "name": "python",
   "nbconvert_exporter": "python",
   "pygments_lexer": "ipython3",
   "version": "3.5.6"
  }
 },
 "nbformat": 4,
 "nbformat_minor": 2
}
