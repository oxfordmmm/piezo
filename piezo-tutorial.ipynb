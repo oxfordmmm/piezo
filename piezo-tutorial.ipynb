{
 "cells": [
  {
   "cell_type": "code",
   "execution_count": 10,
   "metadata": {},
   "outputs": [],
   "source": [
    "import piezo, gumpy, gzip, pickle, copy\n",
    "\n",
    "%load_ext autoreload\n",
    "%autoreload 2"
   ]
  },
  {
   "cell_type": "code",
   "execution_count": 2,
   "metadata": {},
   "outputs": [],
   "source": [
    "with gzip.open(\"H37rV_v3.pkl.gz\",\"rb\") as INPUT:\n",
    "    reference_genome=pickle.load(INPUT)   "
   ]
  },
  {
   "cell_type": "code",
   "execution_count": 3,
   "metadata": {},
   "outputs": [
    {
     "name": "stdout",
     "output_type": "stream",
     "text": [
      "NC_000962.3\n",
      "Mycobacterium tuberculosis H37Rv\n",
      "H37rV_v3.pkl\n",
      "4411532 bases\n",
      "ttg...tcg\n"
     ]
    }
   ],
   "source": [
    "print(reference_genome)"
   ]
  },
  {
   "cell_type": "code",
   "execution_count": 6,
   "metadata": {},
   "outputs": [
    {
     "data": {
      "text/plain": [
       "NC_000962.3\n",
       "Mycobacterium tuberculosis H37Rv\n",
       "H37rV_v3.pkl\n",
       "4411532 bases\n",
       "ttg...tcg"
      ]
     },
     "execution_count": 6,
     "metadata": {},
     "output_type": "execute_result"
    }
   ],
   "source": [
    "reference_genome"
   ]
  },
  {
   "cell_type": "code",
   "execution_count": 14,
   "metadata": {},
   "outputs": [
    {
     "data": {
      "text/plain": [
       "array([], dtype=int64)"
      ]
     },
     "execution_count": 14,
     "metadata": {},
     "output_type": "execute_result"
    }
   ],
   "source": []
  },
  {
   "cell_type": "code",
   "execution_count": 9,
   "metadata": {},
   "outputs": [],
   "source": [
    "sample_genome=copy.deepcopy(reference_genome)"
   ]
  },
  {
   "cell_type": "code",
   "execution_count": 10,
   "metadata": {},
   "outputs": [
    {
     "name": "stderr",
     "output_type": "stream",
     "text": [
      "100%|█████████▉| 2032/2042 [00:38<00:00, 52.90it/s]\n",
      "100%|██████████| 1098/1098 [00:53<00:00, 20.34it/s]\n"
     ]
    }
   ],
   "source": [
    "sample_genome.apply_vcf_file(vcf_file=\"examples/01/01.vcf\",show_progress_bar=True,ignore_status=True,ignore_filter=True,metadata_fields=['GT_CONF'])"
   ]
  },
  {
   "cell_type": "code",
   "execution_count": 16,
   "metadata": {},
   "outputs": [
    {
     "data": {
      "text/plain": [
       "['1849c>a', '1977a>g', '4013t>c']"
      ]
     },
     "execution_count": 16,
     "metadata": {},
     "output_type": "execute_result"
    }
   ],
   "source": [
    "sample_genome.list_variants_wrt(reference_genome)[:3]"
   ]
  },
  {
   "cell_type": "code",
   "execution_count": 17,
   "metadata": {},
   "outputs": [],
   "source": [
    "resistance_catalogue=piezo.ResistanceCatalogue(input_file=\"config/CRYPTICv1.0-RSU-catalogue-H37rV_v3.csv\",catalogue_name=\"CRYPTICv1.0\",gumpy_genome=reference_genome)"
   ]
  },
  {
   "cell_type": "code",
   "execution_count": 19,
   "metadata": {},
   "outputs": [
    {
     "data": {
      "text/plain": [
       "{'RIF': 'R'}"
      ]
     },
     "execution_count": 19,
     "metadata": {},
     "output_type": "execute_result"
    }
   ],
   "source": [
    "resistance_catalogue.predict(\"rpoB_S450L\")"
   ]
  },
  {
   "cell_type": "code",
   "execution_count": 17,
   "metadata": {},
   "outputs": [
    {
     "name": "stdout",
     "output_type": "stream",
     "text": [
      "N 54 1239\n",
      "P 1262 2147\n",
      "M 2179 2944\n",
      "F 3066 4686\n",
      "M2 4723 5287\n",
      "M2_2 5234 5450\n",
      "SH 5480 6020\n",
      "G 6231 6891\n",
      "L 7132 13150\n"
     ]
    }
   ],
   "source": [
    "reference_genome=gumpy.Genome(genbank_file=\"config/NC_004148.2.gbk\",name=\"HMPV\")"
   ]
  },
  {
   "cell_type": "code",
   "execution_count": 18,
   "metadata": {},
   "outputs": [
    {
     "name": "stdout",
     "output_type": "stream",
     "text": [
      "NC_004148.2\n",
      "Human metapneumovirus\n",
      "HMPV\n",
      "13335 bases\n",
      "acg...cgt\n"
     ]
    }
   ],
   "source": [
    "print(reference_genome)"
   ]
  },
  {
   "cell_type": "code",
   "execution_count": 33,
   "metadata": {},
   "outputs": [],
   "source": [
    "m2=reference_genome.genes[\"M2\"]"
   ]
  },
  {
   "cell_type": "code",
   "execution_count": 34,
   "metadata": {},
   "outputs": [
    {
     "data": {
      "text/plain": [
       "array([-37, -36, -35, -34, -33, -32, -31, -30, -29, -28, -27, -26, -25,\n",
       "       -24, -23, -22, -21, -20, -19, -18, -17, -16, -15, -14, -13, -12,\n",
       "       -11, -10,  -9,  -8,  -7,  -6,  -5,  -4,  -3,  -2,  -1,   1,   1,\n",
       "         1,   2,   2,   2,   3,   3,   3,   4,   4,   4,   5,   5,   5,\n",
       "         6,   6,   6,   7,   7,   7,   8,   8,   8,   9,   9,   9,  10,\n",
       "        10,  10,  11,  11,  11,  12,  12,  12,  13,  13,  13,  14,  14,\n",
       "        14,  15,  15,  15,  16,  16,  16,  17,  17,  17,  18,  18,  18,\n",
       "        19,  19,  19,  20,  20,  20,  21,  21,  21,  22,  22,  22,  23,\n",
       "        23,  23,  24,  24,  24,  25,  25,  25,  26,  26,  26,  27,  27,\n",
       "        27,  28,  28,  28,  29,  29,  29,  30,  30,  30,  31,  31,  31,\n",
       "        32,  32,  32,  33,  33,  33,  34,  34,  34,  35,  35,  35,  36,\n",
       "        36,  36,  37,  37,  37,  38,  38,  38,  39,  39,  39,  40,  40,\n",
       "        40,  41,  41,  41,  42,  42,  42,  43,  43,  43,  44,  44,  44,\n",
       "        45,  45,  45,  46,  46,  46,  47,  47,  47,  48,  48,  48,  49,\n",
       "        49,  49,  50,  50,  50,  51,  51,  51,  52,  52,  52,  53,  53,\n",
       "        53,  54,  54,  54,  55,  55,  55,  56,  56,  56,  57,  57,  57,\n",
       "        58,  58,  58,  59,  59,  59,  60,  60,  60,  61,  61,  61,  62,\n",
       "        62,  62,  63,  63,  63,  64,  64,  64,  65,  65,  65,  66,  66,\n",
       "        66,  67,  67,  67,  68,  68,  68,  69,  69,  69,  70,  70,  70,\n",
       "        71,  71,  71,  72,  72,  72,  73,  73,  73,  74,  74,  74,  75,\n",
       "        75,  75,  76,  76,  76,  77,  77,  77,  78,  78,  78,  79,  79,\n",
       "        79,  80,  80,  80,  81,  81,  81,  82,  82,  82,  83,  83,  83,\n",
       "        84,  84,  84,  85,  85,  85,  86,  86,  86,  87,  87,  87,  88,\n",
       "        88,  88,  89,  89,  89,  90,  90,  90,  91,  91,  91,  92,  92,\n",
       "        92,  93,  93,  93,  94,  94,  94,  95,  95,  95,  96,  96,  96,\n",
       "        97,  97,  97,  98,  98,  98,  99,  99,  99, 100, 100, 100, 101,\n",
       "       101, 101, 102, 102, 102, 103, 103, 103, 104, 104, 104, 105, 105,\n",
       "       105, 106, 106, 106, 107, 107, 107, 108, 108, 108, 109, 109, 109,\n",
       "       110, 110, 110, 111, 111, 111, 112, 112, 112, 113, 113, 113, 114,\n",
       "       114, 114, 115, 115, 115, 116, 116, 116, 117, 117, 117, 118, 118,\n",
       "       118, 119, 119, 119, 120, 120, 120, 121, 121, 121, 122, 122, 122,\n",
       "       123, 123, 123, 124, 124, 124, 125, 125, 125, 126, 126, 126, 127,\n",
       "       127, 127, 128, 128, 128, 129, 129, 129, 130, 130, 130, 131, 131,\n",
       "       131, 132, 132, 132, 133, 133, 133, 134, 134, 134, 135, 135, 135,\n",
       "       136, 136, 136, 137, 137, 137, 138, 138, 138, 139, 139, 139, 140,\n",
       "       140, 140, 141, 141, 141, 142, 142, 142, 143, 143, 143, 144, 144,\n",
       "       144, 145, 145, 145, 146, 146, 146, 147, 147, 147, 148, 148, 148,\n",
       "       149, 149, 149, 150, 150, 150, 151, 151, 151, 152, 152, 152, 153,\n",
       "       153, 153, 154, 154, 154, 155, 155, 155, 156, 156, 156, 157, 157,\n",
       "       157, 158, 158, 158, 159, 159, 159, 160, 160, 160, 161, 161, 161,\n",
       "       162, 162, 162, 163, 163, 163, 164, 164, 164, 165, 165, 165, 166,\n",
       "       166, 166, 167, 167, 167, 168, 168, 168, 169, 169, 169, 170, 170,\n",
       "       170, 171])"
      ]
     },
     "execution_count": 34,
     "metadata": {},
     "output_type": "execute_result"
    }
   ],
   "source": [
    "m2.numbering"
   ]
  },
  {
   "cell_type": "code",
   "execution_count": 35,
   "metadata": {},
   "outputs": [
    {
     "data": {
      "text/plain": [
       "'ttaattaaaaataaaataaaatttgggacaaatcataatgtctcgcaaggctccatgcaaatatgaagtgcggggcaaatgcaacagaggaagtgagtgtaagtttaaccacaattactggagttggccagatagatacttattaataagatcaaactatctattaaatcagcttttaaggaacactgatagagctgatggcctatcaataatatcaggcgcaggcagagaagacagaacgcaagattttgttctaggttccaccaatgtggttcaaggttatattgatgataaccaaagcataacaaaagctgcagcctgctacagtctacacaacataatcaagcaactacaagaagttgaagttaggcaggctagagatagcaaactatctgacagcaagcatgtggcactccataacttaatcttatcttacatggagatgagcaaaactcccgcatctttaatcaacaatctcaaaagactgccgagagaaaaactgaaaaaattagcaaagctgataattgacttatcagcaggcgctgaca'"
      ]
     },
     "execution_count": 35,
     "metadata": {},
     "output_type": "execute_result"
    }
   ],
   "source": [
    "''.join(str(i) for i in m2.sequence)"
   ]
  },
  {
   "cell_type": "code",
   "execution_count": null,
   "metadata": {},
   "outputs": [],
   "source": []
  }
 ],
 "metadata": {
  "kernelspec": {
   "display_name": "Python 3",
   "language": "python",
   "name": "python3"
  },
  "language_info": {
   "codemirror_mode": {
    "name": "ipython",
    "version": 3
   },
   "file_extension": ".py",
   "mimetype": "text/x-python",
   "name": "python",
   "nbconvert_exporter": "python",
   "pygments_lexer": "ipython3",
   "version": "3.5.6"
  }
 },
 "nbformat": 4,
 "nbformat_minor": 2
}
